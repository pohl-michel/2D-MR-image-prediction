{
 "cells": [
  {
   "cell_type": "markdown",
   "metadata": {},
   "source": [
    "This notebook was used to compute various results (quantities such as relative differences, computation time ratios...) reported in the following academic article:\n",
    "https://doi.org/10.48550/arXiv.2403.01607 "
   ]
  },
  {
   "cell_type": "markdown",
   "metadata": {
    "id": "N5X18lGDB00u"
   },
   "source": [
    "# Loading libraries and data"
   ]
  },
  {
   "cell_type": "code",
   "execution_count": 1,
   "metadata": {
    "executionInfo": {
     "elapsed": 712,
     "status": "ok",
     "timestamp": 1735981952864,
     "user": {
      "displayName": "Michel POHL",
      "userId": "15338116657512375953"
     },
     "user_tz": -60
    },
    "id": "_11FzRhG76YG"
   },
   "outputs": [],
   "source": [
    "import numpy as np\n",
    "import pandas as pd"
   ]
  },
  {
   "cell_type": "code",
   "execution_count": 2,
   "metadata": {
    "executionInfo": {
     "elapsed": 733,
     "status": "ok",
     "timestamp": 1735981953995,
     "user": {
      "displayName": "Michel POHL",
      "userId": "15338116657512375953"
     },
     "user_tz": -60
    },
    "id": "vf1LPy0jBnoJ"
   },
   "outputs": [],
   "source": [
    "frequencies = [\"3.33 Hz\", \"10 Hz\", \"30 Hz\"]\n",
    "RNN_algs = [\"RTRL\", \"UORO\", \"SnAp-1\", \"DNI\"]"
   ]
  },
  {
   "cell_type": "code",
   "execution_count": 3,
   "metadata": {
    "executionInfo": {
     "elapsed": 54,
     "status": "ok",
     "timestamp": 1735981953995,
     "user": {
      "displayName": "Michel POHL",
      "userId": "15338116657512375953"
     },
     "user_tz": -60
    },
    "id": "fwkap4ng8BXB"
   },
   "outputs": [],
   "source": [
    "errors = {\n",
    "    \"MAE\": {\n",
    "        \"RTRL\": {\"3.33 Hz\": 1.3513, \"10 Hz\": 0.6531, \"30 Hz\": 0.3680},\n",
    "        \"UORO\": {\"3.33 Hz\": 1.2266, \"10 Hz\": 0.5347, \"30 Hz\": 0.3087},\n",
    "        \"SnAp-1\": {\"3.33 Hz\": 1.0890, \"10 Hz\": 0.4933, \"30 Hz\": 0.3132},\n",
    "        \"DNI\": {\"3.33 Hz\": 1.1215, \"10 Hz\": 0.5433, \"30 Hz\": 0.3131},\n",
    "        \"LMS\": {\"3.33 Hz\": 1.6204, \"10 Hz\": 1.0276, \"30 Hz\": 0.5931},\n",
    "        \"kernel SVR\": {\"3.33 Hz\": 2.7676, \"10 Hz\": 3.2639, \"30 Hz\": 3.7243},\n",
    "    },\n",
    "    \"RMSE\": {\n",
    "        \"RTRL\": {\"3.33 Hz\": 1.8817, \"10 Hz\": 0.9260, \"30 Hz\": 0.4837},\n",
    "        \"UORO\": {\"3.33 Hz\": 1.7406, \"10 Hz\": 0.7549, \"30 Hz\": 0.4015},\n",
    "        \"SnAp-1\": {\"3.33 Hz\": 1.5309, \"10 Hz\": 0.6994, \"30 Hz\": 0.4142},\n",
    "        \"DNI\": {\"3.33 Hz\": 1.5464, \"10 Hz\": 0.7522, \"30 Hz\": 0.4018},\n",
    "        \"LMS\": {\"3.33 Hz\": 2.2126, \"10 Hz\": 1.4192, \"30 Hz\": 0.7967},\n",
    "        \"kernel SVR\": {\"3.33 Hz\": 3.5994, \"10 Hz\": 4.2378, \"30 Hz\": 4.8180},\n",
    "    },\n",
    "    \"nRMSE\": {\n",
    "        \"RTRL\": {\"3.33 Hz\": 0.40319, \"10 Hz\": 0.19499, \"30 Hz\": 0.10156},\n",
    "        \"UORO\": {\"3.33 Hz\": 0.38435, \"10 Hz\": 0.16602, \"30 Hz\": 0.08573},\n",
    "        \"SnAp-1\": {\"3.33 Hz\": 0.33468, \"10 Hz\": 0.15674, \"30 Hz\": 0.08965},\n",
    "        \"DNI\": {\"3.33 Hz\": 0.33658, \"10 Hz\": 0.16466, \"30 Hz\": 0.08784},\n",
    "        \"LMS\": {\"3.33 Hz\": 0.48956, \"10 Hz\": 0.31420, \"30 Hz\": 0.17462},\n",
    "        \"kernel SVR\": {\"3.33 Hz\": 0.80091, \"10 Hz\": 0.95998, \"30 Hz\": 1.10122},\n",
    "    },\n",
    "    \"max\": {\n",
    "        \"RTRL\": {\"3.33 Hz\": 9.754, \"10 Hz\": 5.929, \"30 Hz\": 3.539},\n",
    "        \"UORO\": {\"3.33 Hz\": 9.759, \"10 Hz\": 5.483, \"30 Hz\": 3.294},\n",
    "        \"SnAp-1\": {\"3.33 Hz\": 8.449, \"10 Hz\": 5.602, \"30 Hz\": 3.588},\n",
    "        \"DNI\": {\"3.33 Hz\": 8.668, \"10 Hz\": 5.500, \"30 Hz\": 2.940},\n",
    "        \"LMS\": {\"3.33 Hz\": 11.090, \"10 Hz\": 8.576, \"30 Hz\": 5.854},\n",
    "        \"kernel SVR\": {\"3.33 Hz\": 15.501, \"10 Hz\": 16.819, \"30 Hz\": 18.854},\n",
    "    },\n",
    "    \"jitter\": {\n",
    "        \"RTRL\": {\"3.33 Hz\": 1.2944, \"10 Hz\": 0.6466, \"30 Hz\": 0.3044},\n",
    "        \"UORO\": {\"3.33 Hz\": 1.4230, \"10 Hz\": 0.6552, \"30 Hz\": 0.3224},\n",
    "        \"SnAp-1\": {\"3.33 Hz\": 1.6189, \"10 Hz\": 0.7200, \"30 Hz\": 0.3923},\n",
    "        \"DNI\": {\"3.33 Hz\": 1.8678, \"10 Hz\": 0.8443, \"30 Hz\": 0.3123},\n",
    "        \"LMS\": {\"3.33 Hz\": 2.0479, \"10 Hz\": 1.4480, \"30 Hz\": 0.8636},\n",
    "        \"kernel SVR\": {\"3.33 Hz\": 0.9864, \"10 Hz\": 0.3911, \"30 Hz\": 0.1558},\n",
    "    },\n",
    "}"
   ]
  },
  {
   "cell_type": "markdown",
   "metadata": {
    "id": "_G-m__z_EZ2j"
   },
   "source": [
    "# Comparison of RNN errors and other (e.g., LMS) errors"
   ]
  },
  {
   "cell_type": "code",
   "execution_count": 4,
   "metadata": {
    "executionInfo": {
     "elapsed": 52,
     "status": "ok",
     "timestamp": 1735981953995,
     "user": {
      "displayName": "Michel POHL",
      "userId": "15338116657512375953"
     },
     "user_tz": -60
    },
    "id": "UsQiyKNttd4p"
   },
   "outputs": [],
   "source": [
    "algorithm_compared = \"kernel SVR\"\n",
    "# algorithm_compared = \"LMS\""
   ]
  },
  {
   "cell_type": "code",
   "execution_count": 5,
   "metadata": {
    "colab": {
     "base_uri": "https://localhost:8080/",
     "height": 143
    },
    "executionInfo": {
     "elapsed": 52,
     "status": "ok",
     "timestamp": 1735981953995,
     "user": {
      "displayName": "Michel POHL",
      "userId": "15338116657512375953"
     },
     "user_tz": -60
    },
    "id": "ebsIZk_O81jb",
    "outputId": "377e273a-8fa1-4f69-b225-110dd648d66a"
   },
   "outputs": [
    {
     "data": {
      "text/html": [
       "<div>\n",
       "<style scoped>\n",
       "    .dataframe tbody tr th:only-of-type {\n",
       "        vertical-align: middle;\n",
       "    }\n",
       "\n",
       "    .dataframe tbody tr th {\n",
       "        vertical-align: top;\n",
       "    }\n",
       "\n",
       "    .dataframe thead th {\n",
       "        text-align: right;\n",
       "    }\n",
       "</style>\n",
       "<table border=\"1\" class=\"dataframe\">\n",
       "  <thead>\n",
       "    <tr style=\"text-align: right;\">\n",
       "      <th></th>\n",
       "      <th>RTRL</th>\n",
       "      <th>UORO</th>\n",
       "      <th>SnAp-1</th>\n",
       "      <th>DNI</th>\n",
       "      <th>LMS</th>\n",
       "      <th>kernel SVR</th>\n",
       "    </tr>\n",
       "  </thead>\n",
       "  <tbody>\n",
       "    <tr>\n",
       "      <th>3.33 Hz</th>\n",
       "      <td>1.3513</td>\n",
       "      <td>1.2266</td>\n",
       "      <td>1.0890</td>\n",
       "      <td>1.1215</td>\n",
       "      <td>1.6204</td>\n",
       "      <td>2.7676</td>\n",
       "    </tr>\n",
       "    <tr>\n",
       "      <th>10 Hz</th>\n",
       "      <td>0.6531</td>\n",
       "      <td>0.5347</td>\n",
       "      <td>0.4933</td>\n",
       "      <td>0.5433</td>\n",
       "      <td>1.0276</td>\n",
       "      <td>3.2639</td>\n",
       "    </tr>\n",
       "    <tr>\n",
       "      <th>30 Hz</th>\n",
       "      <td>0.3680</td>\n",
       "      <td>0.3087</td>\n",
       "      <td>0.3132</td>\n",
       "      <td>0.3131</td>\n",
       "      <td>0.5931</td>\n",
       "      <td>3.7243</td>\n",
       "    </tr>\n",
       "  </tbody>\n",
       "</table>\n",
       "</div>"
      ],
      "text/plain": [
       "           RTRL    UORO  SnAp-1     DNI     LMS  kernel SVR\n",
       "3.33 Hz  1.3513  1.2266  1.0890  1.1215  1.6204      2.7676\n",
       "10 Hz    0.6531  0.5347  0.4933  0.5433  1.0276      3.2639\n",
       "30 Hz    0.3680  0.3087  0.3132  0.3131  0.5931      3.7243"
      ]
     },
     "execution_count": 5,
     "metadata": {},
     "output_type": "execute_result"
    }
   ],
   "source": [
    "mae_df = pd.DataFrame(errors[\"MAE\"])\n",
    "mae_df"
   ]
  },
  {
   "cell_type": "code",
   "execution_count": 6,
   "metadata": {
    "colab": {
     "base_uri": "https://localhost:8080/",
     "height": 272
    },
    "executionInfo": {
     "elapsed": 50,
     "status": "ok",
     "timestamp": 1735981953995,
     "user": {
      "displayName": "Michel POHL",
      "userId": "15338116657512375953"
     },
     "user_tz": -60
    },
    "id": "K-AvExm19ofQ",
    "outputId": "6c89b556-6805-4781-b17c-47c33a685436"
   },
   "outputs": [
    {
     "data": {
      "text/plain": [
       "RTRL          1.3513\n",
       "UORO          1.2266\n",
       "SnAp-1        1.0890\n",
       "DNI           1.1215\n",
       "LMS           1.6204\n",
       "kernel SVR    2.7676\n",
       "Name: 3.33 Hz, dtype: float64"
      ]
     },
     "execution_count": 6,
     "metadata": {},
     "output_type": "execute_result"
    }
   ],
   "source": [
    "mae_df.loc[\"3.33 Hz\", :]"
   ]
  },
  {
   "cell_type": "code",
   "execution_count": 7,
   "metadata": {
    "colab": {
     "base_uri": "https://localhost:8080/"
    },
    "executionInfo": {
     "elapsed": 49,
     "status": "ok",
     "timestamp": 1735981953995,
     "user": {
      "displayName": "Michel POHL",
      "userId": "15338116657512375953"
     },
     "user_tz": -60
    },
    "id": "9-y0lBbJ-rtE",
    "outputId": "a7d4d2b1-839b-41a6-c67d-d35942feb5dd"
   },
   "outputs": [
    {
     "data": {
      "text/plain": [
       "{'3.33 Hz': 1.3119204744799935,\n",
       " '10 Hz': 4.869268117245099,\n",
       " '30 Hz': 10.43300076745971}"
      ]
     },
     "execution_count": 7,
     "metadata": {},
     "output_type": "execute_result"
    }
   ],
   "source": [
    "mae_rel_err = {\n",
    "    freq: (mae_df.loc[freq, algorithm_compared] - mae_df.loc[freq, RNN_algs].mean()) / mae_df.loc[freq, RNN_algs].mean()\n",
    "    for freq in frequencies\n",
    "}\n",
    "mae_rel_err"
   ]
  },
  {
   "cell_type": "code",
   "execution_count": 8,
   "metadata": {
    "colab": {
     "base_uri": "https://localhost:8080/",
     "height": 143
    },
    "executionInfo": {
     "elapsed": 45,
     "status": "ok",
     "timestamp": 1735981953995,
     "user": {
      "displayName": "Michel POHL",
      "userId": "15338116657512375953"
     },
     "user_tz": -60
    },
    "id": "quYwlp7wA0OA",
    "outputId": "9d19eb3a-ab7e-4eb2-9bb3-b2b3e6158929"
   },
   "outputs": [
    {
     "data": {
      "text/html": [
       "<div>\n",
       "<style scoped>\n",
       "    .dataframe tbody tr th:only-of-type {\n",
       "        vertical-align: middle;\n",
       "    }\n",
       "\n",
       "    .dataframe tbody tr th {\n",
       "        vertical-align: top;\n",
       "    }\n",
       "\n",
       "    .dataframe thead th {\n",
       "        text-align: right;\n",
       "    }\n",
       "</style>\n",
       "<table border=\"1\" class=\"dataframe\">\n",
       "  <thead>\n",
       "    <tr style=\"text-align: right;\">\n",
       "      <th></th>\n",
       "      <th>MAE</th>\n",
       "      <th>RMSE</th>\n",
       "      <th>nRMSE</th>\n",
       "      <th>max</th>\n",
       "      <th>jitter</th>\n",
       "    </tr>\n",
       "  </thead>\n",
       "  <tbody>\n",
       "    <tr>\n",
       "      <th>3.33 Hz</th>\n",
       "      <td>1.311920</td>\n",
       "      <td>1.149024</td>\n",
       "      <td>1.196079</td>\n",
       "      <td>0.692711</td>\n",
       "      <td>-0.364033</td>\n",
       "    </tr>\n",
       "    <tr>\n",
       "      <th>10 Hz</th>\n",
       "      <td>4.869268</td>\n",
       "      <td>4.411397</td>\n",
       "      <td>4.626998</td>\n",
       "      <td>1.988185</td>\n",
       "      <td>-0.454171</td>\n",
       "    </tr>\n",
       "    <tr>\n",
       "      <th>30 Hz</th>\n",
       "      <td>10.433001</td>\n",
       "      <td>10.328474</td>\n",
       "      <td>11.075443</td>\n",
       "      <td>4.644488</td>\n",
       "      <td>-0.531921</td>\n",
       "    </tr>\n",
       "  </tbody>\n",
       "</table>\n",
       "</div>"
      ],
      "text/plain": [
       "               MAE       RMSE      nRMSE       max    jitter\n",
       "3.33 Hz   1.311920   1.149024   1.196079  0.692711 -0.364033\n",
       "10 Hz     4.869268   4.411397   4.626998  1.988185 -0.454171\n",
       "30 Hz    10.433001  10.328474  11.075443  4.644488 -0.531921"
      ]
     },
     "execution_count": 8,
     "metadata": {},
     "output_type": "execute_result"
    }
   ],
   "source": [
    "rel_errs = {}\n",
    "\n",
    "for error_type, errors_vals in errors.items():\n",
    "    errors_vals_df = pd.DataFrame(errors_vals)\n",
    "    rel_errs[error_type] = {\n",
    "        freq: (errors_vals_df.loc[freq, algorithm_compared] - errors_vals_df.loc[freq, RNN_algs].mean())\n",
    "        / errors_vals_df.loc[freq, RNN_algs].mean()\n",
    "        for freq in frequencies\n",
    "    }\n",
    "\n",
    "rel_errs_df = pd.DataFrame(rel_errs)\n",
    "rel_errs_df"
   ]
  },
  {
   "cell_type": "code",
   "execution_count": 9,
   "metadata": {
    "colab": {
     "base_uri": "https://localhost:8080/",
     "height": 178
    },
    "executionInfo": {
     "elapsed": 46,
     "status": "ok",
     "timestamp": 1735981953996,
     "user": {
      "displayName": "Michel POHL",
      "userId": "15338116657512375953"
     },
     "user_tz": -60
    },
    "id": "umy7PxJ6EDsP",
    "outputId": "639bac4e-8dc8-432f-a6b6-64bbb4517097"
   },
   "outputs": [
    {
     "data": {
      "text/plain": [
       "3.33 Hz     1.219008\n",
       "10 Hz       4.635888\n",
       "30 Hz      10.612306\n",
       "dtype: float64"
      ]
     },
     "execution_count": 9,
     "metadata": {},
     "output_type": "execute_result"
    }
   ],
   "source": [
    "rel_errs_df.loc[:, [\"MAE\", \"RMSE\", \"nRMSE\"]].transpose().mean()"
   ]
  },
  {
   "cell_type": "markdown",
   "metadata": {
    "id": "gszKXzjBQGTo"
   },
   "source": [
    "# Comparison RNN fixed weights and other algorithms"
   ]
  },
  {
   "cell_type": "code",
   "execution_count": 10,
   "metadata": {
    "colab": {
     "base_uri": "https://localhost:8080/"
    },
    "executionInfo": {
     "elapsed": 44,
     "status": "ok",
     "timestamp": 1735981953996,
     "user": {
      "displayName": "Michel POHL",
      "userId": "15338116657512375953"
     },
     "user_tz": -60
    },
    "id": "xFw_TgmaQLGY",
    "outputId": "93dccf90-7434-4863-905b-75621688f6ca"
   },
   "outputs": [
    {
     "data": {
      "text/plain": [
       "0.04857055026129728"
      ]
     },
     "execution_count": 10,
     "metadata": {},
     "output_type": "execute_result"
    }
   ],
   "source": [
    "# max error 3.3Hz comparison with RTRL\n",
    "(9.759 - 9.285) / 9.759"
   ]
  },
  {
   "cell_type": "code",
   "execution_count": 11,
   "metadata": {
    "colab": {
     "base_uri": "https://localhost:8080/"
    },
    "executionInfo": {
     "elapsed": 41,
     "status": "ok",
     "timestamp": 1735981953996,
     "user": {
      "displayName": "Michel POHL",
      "userId": "15338116657512375953"
     },
     "user_tz": -60
    },
    "id": "0Zo4QoxrQqcO",
    "outputId": "c47bbd00-90e6-4ddb-b989-6d6b9821585a"
   },
   "outputs": [
    {
     "data": {
      "text/plain": [
       "0.09942177963379376"
      ]
     },
     "execution_count": 11,
     "metadata": {},
     "output_type": "execute_result"
    }
   ],
   "source": [
    "# jitter 3.33Hz comparison with DNI\n",
    "(1.8678 - 1.6821) / 1.8678"
   ]
  },
  {
   "cell_type": "markdown",
   "metadata": {
    "id": "xle8ZEwnueNI"
   },
   "source": [
    "# Variation with the signal frequency"
   ]
  },
  {
   "cell_type": "markdown",
   "metadata": {
    "id": "Zsj7TlXa60KL"
   },
   "source": [
    "Essai à la main avec le MAE"
   ]
  },
  {
   "cell_type": "code",
   "execution_count": 12,
   "metadata": {
    "colab": {
     "base_uri": "https://localhost:8080/"
    },
    "executionInfo": {
     "elapsed": 38,
     "status": "ok",
     "timestamp": 1735981953996,
     "user": {
      "displayName": "Michel POHL",
      "userId": "15338116657512375953"
     },
     "user_tz": -60
    },
    "id": "C6Q5yBGau0_8",
    "outputId": "f5d119d5-21b4-480e-bd29-9c3cbba21bf4"
   },
   "outputs": [
    {
     "data": {
      "text/plain": [
       "{'MAE': {'RTRL': {'3.33 Hz': 1.3513, '10 Hz': 0.6531, '30 Hz': 0.368},\n",
       "  'UORO': {'3.33 Hz': 1.2266, '10 Hz': 0.5347, '30 Hz': 0.3087},\n",
       "  'SnAp-1': {'3.33 Hz': 1.089, '10 Hz': 0.4933, '30 Hz': 0.3132},\n",
       "  'DNI': {'3.33 Hz': 1.1215, '10 Hz': 0.5433, '30 Hz': 0.3131},\n",
       "  'LMS': {'3.33 Hz': 1.6204, '10 Hz': 1.0276, '30 Hz': 0.5931},\n",
       "  'kernel SVR': {'3.33 Hz': 2.7676, '10 Hz': 3.2639, '30 Hz': 3.7243}},\n",
       " 'RMSE': {'RTRL': {'3.33 Hz': 1.8817, '10 Hz': 0.926, '30 Hz': 0.4837},\n",
       "  'UORO': {'3.33 Hz': 1.7406, '10 Hz': 0.7549, '30 Hz': 0.4015},\n",
       "  'SnAp-1': {'3.33 Hz': 1.5309, '10 Hz': 0.6994, '30 Hz': 0.4142},\n",
       "  'DNI': {'3.33 Hz': 1.5464, '10 Hz': 0.7522, '30 Hz': 0.4018},\n",
       "  'LMS': {'3.33 Hz': 2.2126, '10 Hz': 1.4192, '30 Hz': 0.7967},\n",
       "  'kernel SVR': {'3.33 Hz': 3.5994, '10 Hz': 4.2378, '30 Hz': 4.818}},\n",
       " 'nRMSE': {'RTRL': {'3.33 Hz': 0.40319, '10 Hz': 0.19499, '30 Hz': 0.10156},\n",
       "  'UORO': {'3.33 Hz': 0.38435, '10 Hz': 0.16602, '30 Hz': 0.08573},\n",
       "  'SnAp-1': {'3.33 Hz': 0.33468, '10 Hz': 0.15674, '30 Hz': 0.08965},\n",
       "  'DNI': {'3.33 Hz': 0.33658, '10 Hz': 0.16466, '30 Hz': 0.08784},\n",
       "  'LMS': {'3.33 Hz': 0.48956, '10 Hz': 0.3142, '30 Hz': 0.17462},\n",
       "  'kernel SVR': {'3.33 Hz': 0.80091, '10 Hz': 0.95998, '30 Hz': 1.10122}},\n",
       " 'max': {'RTRL': {'3.33 Hz': 9.754, '10 Hz': 5.929, '30 Hz': 3.539},\n",
       "  'UORO': {'3.33 Hz': 9.759, '10 Hz': 5.483, '30 Hz': 3.294},\n",
       "  'SnAp-1': {'3.33 Hz': 8.449, '10 Hz': 5.602, '30 Hz': 3.588},\n",
       "  'DNI': {'3.33 Hz': 8.668, '10 Hz': 5.5, '30 Hz': 2.94},\n",
       "  'LMS': {'3.33 Hz': 11.09, '10 Hz': 8.576, '30 Hz': 5.854},\n",
       "  'kernel SVR': {'3.33 Hz': 15.501, '10 Hz': 16.819, '30 Hz': 18.854}},\n",
       " 'jitter': {'RTRL': {'3.33 Hz': 1.2944, '10 Hz': 0.6466, '30 Hz': 0.3044},\n",
       "  'UORO': {'3.33 Hz': 1.423, '10 Hz': 0.6552, '30 Hz': 0.3224},\n",
       "  'SnAp-1': {'3.33 Hz': 1.6189, '10 Hz': 0.72, '30 Hz': 0.3923},\n",
       "  'DNI': {'3.33 Hz': 1.8678, '10 Hz': 0.8443, '30 Hz': 0.3123},\n",
       "  'LMS': {'3.33 Hz': 2.0479, '10 Hz': 1.448, '30 Hz': 0.8636},\n",
       "  'kernel SVR': {'3.33 Hz': 0.9864, '10 Hz': 0.3911, '30 Hz': 0.1558}}}"
      ]
     },
     "execution_count": 12,
     "metadata": {},
     "output_type": "execute_result"
    }
   ],
   "source": [
    "errors"
   ]
  },
  {
   "cell_type": "code",
   "execution_count": 13,
   "metadata": {
    "colab": {
     "base_uri": "https://localhost:8080/",
     "height": 143
    },
    "executionInfo": {
     "elapsed": 36,
     "status": "ok",
     "timestamp": 1735981953996,
     "user": {
      "displayName": "Michel POHL",
      "userId": "15338116657512375953"
     },
     "user_tz": -60
    },
    "id": "PfDWzwsdvRN-",
    "outputId": "f57cf318-2fa9-4f7b-fad1-dcae6ce92b21"
   },
   "outputs": [
    {
     "data": {
      "text/html": [
       "<div>\n",
       "<style scoped>\n",
       "    .dataframe tbody tr th:only-of-type {\n",
       "        vertical-align: middle;\n",
       "    }\n",
       "\n",
       "    .dataframe tbody tr th {\n",
       "        vertical-align: top;\n",
       "    }\n",
       "\n",
       "    .dataframe thead th {\n",
       "        text-align: right;\n",
       "    }\n",
       "</style>\n",
       "<table border=\"1\" class=\"dataframe\">\n",
       "  <thead>\n",
       "    <tr style=\"text-align: right;\">\n",
       "      <th></th>\n",
       "      <th>RTRL</th>\n",
       "      <th>UORO</th>\n",
       "      <th>SnAp-1</th>\n",
       "      <th>DNI</th>\n",
       "      <th>LMS</th>\n",
       "      <th>kernel SVR</th>\n",
       "    </tr>\n",
       "  </thead>\n",
       "  <tbody>\n",
       "    <tr>\n",
       "      <th>3.33 Hz</th>\n",
       "      <td>1.3513</td>\n",
       "      <td>1.2266</td>\n",
       "      <td>1.0890</td>\n",
       "      <td>1.1215</td>\n",
       "      <td>1.6204</td>\n",
       "      <td>2.7676</td>\n",
       "    </tr>\n",
       "    <tr>\n",
       "      <th>10 Hz</th>\n",
       "      <td>0.6531</td>\n",
       "      <td>0.5347</td>\n",
       "      <td>0.4933</td>\n",
       "      <td>0.5433</td>\n",
       "      <td>1.0276</td>\n",
       "      <td>3.2639</td>\n",
       "    </tr>\n",
       "    <tr>\n",
       "      <th>30 Hz</th>\n",
       "      <td>0.3680</td>\n",
       "      <td>0.3087</td>\n",
       "      <td>0.3132</td>\n",
       "      <td>0.3131</td>\n",
       "      <td>0.5931</td>\n",
       "      <td>3.7243</td>\n",
       "    </tr>\n",
       "  </tbody>\n",
       "</table>\n",
       "</div>"
      ],
      "text/plain": [
       "           RTRL    UORO  SnAp-1     DNI     LMS  kernel SVR\n",
       "3.33 Hz  1.3513  1.2266  1.0890  1.1215  1.6204      2.7676\n",
       "10 Hz    0.6531  0.5347  0.4933  0.5433  1.0276      3.2639\n",
       "30 Hz    0.3680  0.3087  0.3132  0.3131  0.5931      3.7243"
      ]
     },
     "execution_count": 13,
     "metadata": {},
     "output_type": "execute_result"
    }
   ],
   "source": [
    "errors_vals_df = pd.DataFrame(errors[\"MAE\"])\n",
    "errors_vals_df"
   ]
  },
  {
   "cell_type": "code",
   "execution_count": 14,
   "metadata": {
    "colab": {
     "base_uri": "https://localhost:8080/",
     "height": 143
    },
    "executionInfo": {
     "elapsed": 35,
     "status": "ok",
     "timestamp": 1735981953996,
     "user": {
      "displayName": "Michel POHL",
      "userId": "15338116657512375953"
     },
     "user_tz": -60
    },
    "id": "BGo3nrUEwFri",
    "outputId": "8a879e52-438c-4af4-9537-e9d79efee656"
   },
   "outputs": [
    {
     "data": {
      "text/html": [
       "<div>\n",
       "<style scoped>\n",
       "    .dataframe tbody tr th:only-of-type {\n",
       "        vertical-align: middle;\n",
       "    }\n",
       "\n",
       "    .dataframe tbody tr th {\n",
       "        vertical-align: top;\n",
       "    }\n",
       "\n",
       "    .dataframe thead th {\n",
       "        text-align: right;\n",
       "    }\n",
       "</style>\n",
       "<table border=\"1\" class=\"dataframe\">\n",
       "  <thead>\n",
       "    <tr style=\"text-align: right;\">\n",
       "      <th></th>\n",
       "      <th>RTRL</th>\n",
       "      <th>UORO</th>\n",
       "      <th>SnAp-1</th>\n",
       "      <th>DNI</th>\n",
       "      <th>LMS</th>\n",
       "      <th>kernel SVR</th>\n",
       "    </tr>\n",
       "  </thead>\n",
       "  <tbody>\n",
       "    <tr>\n",
       "      <th>3.33 Hz</th>\n",
       "      <td>NaN</td>\n",
       "      <td>NaN</td>\n",
       "      <td>NaN</td>\n",
       "      <td>NaN</td>\n",
       "      <td>NaN</td>\n",
       "      <td>NaN</td>\n",
       "    </tr>\n",
       "    <tr>\n",
       "      <th>10 Hz</th>\n",
       "      <td>-0.6982</td>\n",
       "      <td>-0.6919</td>\n",
       "      <td>-0.5957</td>\n",
       "      <td>-0.5782</td>\n",
       "      <td>-0.5928</td>\n",
       "      <td>0.4963</td>\n",
       "    </tr>\n",
       "    <tr>\n",
       "      <th>30 Hz</th>\n",
       "      <td>-0.2851</td>\n",
       "      <td>-0.2260</td>\n",
       "      <td>-0.1801</td>\n",
       "      <td>-0.2302</td>\n",
       "      <td>-0.4345</td>\n",
       "      <td>0.4604</td>\n",
       "    </tr>\n",
       "  </tbody>\n",
       "</table>\n",
       "</div>"
      ],
      "text/plain": [
       "           RTRL    UORO  SnAp-1     DNI     LMS  kernel SVR\n",
       "3.33 Hz     NaN     NaN     NaN     NaN     NaN         NaN\n",
       "10 Hz   -0.6982 -0.6919 -0.5957 -0.5782 -0.5928      0.4963\n",
       "30 Hz   -0.2851 -0.2260 -0.1801 -0.2302 -0.4345      0.4604"
      ]
     },
     "execution_count": 14,
     "metadata": {},
     "output_type": "execute_result"
    }
   ],
   "source": [
    "tmp = errors_vals_df.diff(periods=1, axis=0)\n",
    "tmp"
   ]
  },
  {
   "cell_type": "code",
   "execution_count": 15,
   "metadata": {
    "colab": {
     "base_uri": "https://localhost:8080/",
     "height": 125
    },
    "executionInfo": {
     "elapsed": 34,
     "status": "ok",
     "timestamp": 1735981953996,
     "user": {
      "displayName": "Michel POHL",
      "userId": "15338116657512375953"
     },
     "user_tz": -60
    },
    "id": "vj34Or3Qxre3",
    "outputId": "94f6f135-7fd2-4c5b-99c1-9e667a1a37ea"
   },
   "outputs": [
    {
     "data": {
      "text/html": [
       "<div>\n",
       "<style scoped>\n",
       "    .dataframe tbody tr th:only-of-type {\n",
       "        vertical-align: middle;\n",
       "    }\n",
       "\n",
       "    .dataframe tbody tr th {\n",
       "        vertical-align: top;\n",
       "    }\n",
       "\n",
       "    .dataframe thead th {\n",
       "        text-align: right;\n",
       "    }\n",
       "</style>\n",
       "<table border=\"1\" class=\"dataframe\">\n",
       "  <thead>\n",
       "    <tr style=\"text-align: right;\">\n",
       "      <th></th>\n",
       "      <th>RTRL</th>\n",
       "      <th>UORO</th>\n",
       "      <th>SnAp-1</th>\n",
       "      <th>DNI</th>\n",
       "      <th>LMS</th>\n",
       "      <th>kernel SVR</th>\n",
       "    </tr>\n",
       "  </thead>\n",
       "  <tbody>\n",
       "    <tr>\n",
       "      <th>10 Hz</th>\n",
       "      <td>-0.516688</td>\n",
       "      <td>-0.564080</td>\n",
       "      <td>-0.547016</td>\n",
       "      <td>-0.515560</td>\n",
       "      <td>-0.365836</td>\n",
       "      <td>0.179325</td>\n",
       "    </tr>\n",
       "    <tr>\n",
       "      <th>30 Hz</th>\n",
       "      <td>-0.436533</td>\n",
       "      <td>-0.422667</td>\n",
       "      <td>-0.365092</td>\n",
       "      <td>-0.423707</td>\n",
       "      <td>-0.422830</td>\n",
       "      <td>0.141058</td>\n",
       "    </tr>\n",
       "  </tbody>\n",
       "</table>\n",
       "</div>"
      ],
      "text/plain": [
       "           RTRL      UORO    SnAp-1       DNI       LMS  kernel SVR\n",
       "10 Hz -0.516688 -0.564080 -0.547016 -0.515560 -0.365836    0.179325\n",
       "30 Hz -0.436533 -0.422667 -0.365092 -0.423707 -0.422830    0.141058"
      ]
     },
     "execution_count": 15,
     "metadata": {},
     "output_type": "execute_result"
    }
   ],
   "source": [
    "tmp.loc[\"10 Hz\", :] = tmp.loc[\"10 Hz\", :] / errors_vals_df.loc[\"3.33 Hz\", :]\n",
    "tmp.loc[\"30 Hz\", :] = tmp.loc[\"30 Hz\", :] / errors_vals_df.loc[\"10 Hz\", :]\n",
    "\n",
    "tmp = tmp.loc[[\"10 Hz\", \"30 Hz\"], :]\n",
    "tmp"
   ]
  },
  {
   "cell_type": "code",
   "execution_count": 16,
   "metadata": {
    "colab": {
     "base_uri": "https://localhost:8080/",
     "height": 125
    },
    "executionInfo": {
     "elapsed": 33,
     "status": "ok",
     "timestamp": 1735981953996,
     "user": {
      "displayName": "Michel POHL",
      "userId": "15338116657512375953"
     },
     "user_tz": -60
    },
    "id": "8nqL5ElI3nn0",
    "outputId": "4332725f-4b78-48e1-cf28-4eab87032f8e"
   },
   "outputs": [
    {
     "data": {
      "text/html": [
       "<div>\n",
       "<style scoped>\n",
       "    .dataframe tbody tr th:only-of-type {\n",
       "        vertical-align: middle;\n",
       "    }\n",
       "\n",
       "    .dataframe tbody tr th {\n",
       "        vertical-align: top;\n",
       "    }\n",
       "\n",
       "    .dataframe thead th {\n",
       "        text-align: right;\n",
       "    }\n",
       "</style>\n",
       "<table border=\"1\" class=\"dataframe\">\n",
       "  <thead>\n",
       "    <tr style=\"text-align: right;\">\n",
       "      <th></th>\n",
       "      <th>RTRL</th>\n",
       "      <th>UORO</th>\n",
       "      <th>SnAp-1</th>\n",
       "      <th>DNI</th>\n",
       "      <th>LMS</th>\n",
       "      <th>kernel SVR</th>\n",
       "    </tr>\n",
       "  </thead>\n",
       "  <tbody>\n",
       "    <tr>\n",
       "      <th>10 Hz MAE</th>\n",
       "      <td>-0.516688</td>\n",
       "      <td>-0.564080</td>\n",
       "      <td>-0.547016</td>\n",
       "      <td>-0.515560</td>\n",
       "      <td>-0.365836</td>\n",
       "      <td>0.179325</td>\n",
       "    </tr>\n",
       "    <tr>\n",
       "      <th>30 Hz MAE</th>\n",
       "      <td>-0.436533</td>\n",
       "      <td>-0.422667</td>\n",
       "      <td>-0.365092</td>\n",
       "      <td>-0.423707</td>\n",
       "      <td>-0.422830</td>\n",
       "      <td>0.141058</td>\n",
       "    </tr>\n",
       "  </tbody>\n",
       "</table>\n",
       "</div>"
      ],
      "text/plain": [
       "               RTRL      UORO    SnAp-1       DNI       LMS  kernel SVR\n",
       "10 Hz MAE -0.516688 -0.564080 -0.547016 -0.515560 -0.365836    0.179325\n",
       "30 Hz MAE -0.436533 -0.422667 -0.365092 -0.423707 -0.422830    0.141058"
      ]
     },
     "execution_count": 16,
     "metadata": {},
     "output_type": "execute_result"
    }
   ],
   "source": [
    "tmp.index = [\"10 Hz MAE\", \"30 Hz MAE\"]\n",
    "tmp"
   ]
  },
  {
   "cell_type": "markdown",
   "metadata": {
    "id": "xJtd80hI63lS"
   },
   "source": [
    "Toutes les erreurs"
   ]
  },
  {
   "cell_type": "code",
   "execution_count": 17,
   "metadata": {
    "executionInfo": {
     "elapsed": 32,
     "status": "ok",
     "timestamp": 1735981953996,
     "user": {
      "displayName": "Michel POHL",
      "userId": "15338116657512375953"
     },
     "user_tz": -60
    },
    "id": "W2vqAMcRuiTk"
   },
   "outputs": [],
   "source": [
    "rel_errs_dfs = []\n",
    "\n",
    "for error_type, errors_vals in errors.items():\n",
    "\n",
    "    # dataframe for a given error (e.g. MAE)\n",
    "    errors_vals_df = pd.DataFrame(errors_vals)\n",
    "\n",
    "    abs_diff_df = errors_vals_df.diff(periods=1, axis=0)\n",
    "\n",
    "    rel_diff_df = abs_diff_df.loc[[\"10 Hz\", \"30 Hz\"], :].copy(deep=True)\n",
    "    rel_diff_df = rel_diff_df / errors_vals_df.loc[[\"3.33 Hz\", \"10 Hz\"], :].to_numpy()\n",
    "    rel_diff_df.index = [error_type + \" \" + freq for freq in rel_diff_df.index]\n",
    "\n",
    "    rel_errs_dfs.append(rel_diff_df)"
   ]
  },
  {
   "cell_type": "code",
   "execution_count": 18,
   "metadata": {
    "colab": {
     "base_uri": "https://localhost:8080/",
     "height": 112
    },
    "executionInfo": {
     "elapsed": 31,
     "status": "ok",
     "timestamp": 1735981953996,
     "user": {
      "displayName": "Michel POHL",
      "userId": "15338116657512375953"
     },
     "user_tz": -60
    },
    "id": "zWJVOAcu5P3W",
    "outputId": "1038c825-1e4e-4c47-8650-0c7ca2725a8c"
   },
   "outputs": [
    {
     "data": {
      "text/html": [
       "<div>\n",
       "<style scoped>\n",
       "    .dataframe tbody tr th:only-of-type {\n",
       "        vertical-align: middle;\n",
       "    }\n",
       "\n",
       "    .dataframe tbody tr th {\n",
       "        vertical-align: top;\n",
       "    }\n",
       "\n",
       "    .dataframe thead th {\n",
       "        text-align: right;\n",
       "    }\n",
       "</style>\n",
       "<table border=\"1\" class=\"dataframe\">\n",
       "  <thead>\n",
       "    <tr style=\"text-align: right;\">\n",
       "      <th></th>\n",
       "      <th>RTRL</th>\n",
       "      <th>UORO</th>\n",
       "      <th>SnAp-1</th>\n",
       "      <th>DNI</th>\n",
       "      <th>LMS</th>\n",
       "      <th>kernel SVR</th>\n",
       "    </tr>\n",
       "  </thead>\n",
       "  <tbody>\n",
       "    <tr>\n",
       "      <th>MAE 10 Hz</th>\n",
       "      <td>-0.516688</td>\n",
       "      <td>-0.564080</td>\n",
       "      <td>-0.547016</td>\n",
       "      <td>-0.515560</td>\n",
       "      <td>-0.365836</td>\n",
       "      <td>0.179325</td>\n",
       "    </tr>\n",
       "    <tr>\n",
       "      <th>MAE 30 Hz</th>\n",
       "      <td>-0.436533</td>\n",
       "      <td>-0.422667</td>\n",
       "      <td>-0.365092</td>\n",
       "      <td>-0.423707</td>\n",
       "      <td>-0.422830</td>\n",
       "      <td>0.141058</td>\n",
       "    </tr>\n",
       "  </tbody>\n",
       "</table>\n",
       "</div>"
      ],
      "text/plain": [
       "               RTRL      UORO    SnAp-1       DNI       LMS  kernel SVR\n",
       "MAE 10 Hz -0.516688 -0.564080 -0.547016 -0.515560 -0.365836    0.179325\n",
       "MAE 30 Hz -0.436533 -0.422667 -0.365092 -0.423707 -0.422830    0.141058"
      ]
     },
     "execution_count": 18,
     "metadata": {},
     "output_type": "execute_result"
    }
   ],
   "source": [
    "rel_errs_dfs[0]"
   ]
  },
  {
   "cell_type": "code",
   "execution_count": 19,
   "metadata": {
    "colab": {
     "base_uri": "https://localhost:8080/",
     "height": 363
    },
    "executionInfo": {
     "elapsed": 724,
     "status": "ok",
     "timestamp": 1735981954690,
     "user": {
      "displayName": "Michel POHL",
      "userId": "15338116657512375953"
     },
     "user_tz": -60
    },
    "id": "zCZejbxE76wd",
    "outputId": "7fb038a3-4b8f-4070-d223-ceca40fbbaf0"
   },
   "outputs": [
    {
     "data": {
      "text/html": [
       "<div>\n",
       "<style scoped>\n",
       "    .dataframe tbody tr th:only-of-type {\n",
       "        vertical-align: middle;\n",
       "    }\n",
       "\n",
       "    .dataframe tbody tr th {\n",
       "        vertical-align: top;\n",
       "    }\n",
       "\n",
       "    .dataframe thead th {\n",
       "        text-align: right;\n",
       "    }\n",
       "</style>\n",
       "<table border=\"1\" class=\"dataframe\">\n",
       "  <thead>\n",
       "    <tr style=\"text-align: right;\">\n",
       "      <th></th>\n",
       "      <th>RTRL</th>\n",
       "      <th>UORO</th>\n",
       "      <th>SnAp-1</th>\n",
       "      <th>DNI</th>\n",
       "      <th>LMS</th>\n",
       "      <th>kernel SVR</th>\n",
       "    </tr>\n",
       "  </thead>\n",
       "  <tbody>\n",
       "    <tr>\n",
       "      <th>MAE 10 Hz</th>\n",
       "      <td>-0.516688</td>\n",
       "      <td>-0.564080</td>\n",
       "      <td>-0.547016</td>\n",
       "      <td>-0.515560</td>\n",
       "      <td>-0.365836</td>\n",
       "      <td>0.179325</td>\n",
       "    </tr>\n",
       "    <tr>\n",
       "      <th>MAE 30 Hz</th>\n",
       "      <td>-0.436533</td>\n",
       "      <td>-0.422667</td>\n",
       "      <td>-0.365092</td>\n",
       "      <td>-0.423707</td>\n",
       "      <td>-0.422830</td>\n",
       "      <td>0.141058</td>\n",
       "    </tr>\n",
       "    <tr>\n",
       "      <th>RMSE 10 Hz</th>\n",
       "      <td>-0.507892</td>\n",
       "      <td>-0.566299</td>\n",
       "      <td>-0.543145</td>\n",
       "      <td>-0.513580</td>\n",
       "      <td>-0.358583</td>\n",
       "      <td>0.177363</td>\n",
       "    </tr>\n",
       "    <tr>\n",
       "      <th>RMSE 30 Hz</th>\n",
       "      <td>-0.477646</td>\n",
       "      <td>-0.468141</td>\n",
       "      <td>-0.407778</td>\n",
       "      <td>-0.465834</td>\n",
       "      <td>-0.438627</td>\n",
       "      <td>0.136911</td>\n",
       "    </tr>\n",
       "    <tr>\n",
       "      <th>nRMSE 10 Hz</th>\n",
       "      <td>-0.516382</td>\n",
       "      <td>-0.568050</td>\n",
       "      <td>-0.531672</td>\n",
       "      <td>-0.510785</td>\n",
       "      <td>-0.358199</td>\n",
       "      <td>0.198612</td>\n",
       "    </tr>\n",
       "    <tr>\n",
       "      <th>nRMSE 30 Hz</th>\n",
       "      <td>-0.479153</td>\n",
       "      <td>-0.483616</td>\n",
       "      <td>-0.428034</td>\n",
       "      <td>-0.466537</td>\n",
       "      <td>-0.444239</td>\n",
       "      <td>0.147128</td>\n",
       "    </tr>\n",
       "    <tr>\n",
       "      <th>max 10 Hz</th>\n",
       "      <td>-0.392147</td>\n",
       "      <td>-0.438160</td>\n",
       "      <td>-0.336963</td>\n",
       "      <td>-0.365482</td>\n",
       "      <td>-0.226691</td>\n",
       "      <td>0.085027</td>\n",
       "    </tr>\n",
       "    <tr>\n",
       "      <th>max 30 Hz</th>\n",
       "      <td>-0.403103</td>\n",
       "      <td>-0.399234</td>\n",
       "      <td>-0.359514</td>\n",
       "      <td>-0.465455</td>\n",
       "      <td>-0.317397</td>\n",
       "      <td>0.120994</td>\n",
       "    </tr>\n",
       "    <tr>\n",
       "      <th>jitter 10 Hz</th>\n",
       "      <td>-0.500464</td>\n",
       "      <td>-0.539564</td>\n",
       "      <td>-0.555254</td>\n",
       "      <td>-0.547971</td>\n",
       "      <td>-0.292934</td>\n",
       "      <td>-0.603508</td>\n",
       "    </tr>\n",
       "    <tr>\n",
       "      <th>jitter 30 Hz</th>\n",
       "      <td>-0.529230</td>\n",
       "      <td>-0.507937</td>\n",
       "      <td>-0.455139</td>\n",
       "      <td>-0.630108</td>\n",
       "      <td>-0.403591</td>\n",
       "      <td>-0.601636</td>\n",
       "    </tr>\n",
       "  </tbody>\n",
       "</table>\n",
       "</div>"
      ],
      "text/plain": [
       "                  RTRL      UORO    SnAp-1       DNI       LMS  kernel SVR\n",
       "MAE 10 Hz    -0.516688 -0.564080 -0.547016 -0.515560 -0.365836    0.179325\n",
       "MAE 30 Hz    -0.436533 -0.422667 -0.365092 -0.423707 -0.422830    0.141058\n",
       "RMSE 10 Hz   -0.507892 -0.566299 -0.543145 -0.513580 -0.358583    0.177363\n",
       "RMSE 30 Hz   -0.477646 -0.468141 -0.407778 -0.465834 -0.438627    0.136911\n",
       "nRMSE 10 Hz  -0.516382 -0.568050 -0.531672 -0.510785 -0.358199    0.198612\n",
       "nRMSE 30 Hz  -0.479153 -0.483616 -0.428034 -0.466537 -0.444239    0.147128\n",
       "max 10 Hz    -0.392147 -0.438160 -0.336963 -0.365482 -0.226691    0.085027\n",
       "max 30 Hz    -0.403103 -0.399234 -0.359514 -0.465455 -0.317397    0.120994\n",
       "jitter 10 Hz -0.500464 -0.539564 -0.555254 -0.547971 -0.292934   -0.603508\n",
       "jitter 30 Hz -0.529230 -0.507937 -0.455139 -0.630108 -0.403591   -0.601636"
      ]
     },
     "execution_count": 19,
     "metadata": {},
     "output_type": "execute_result"
    }
   ],
   "source": [
    "rel_errs_df_final = pd.concat(\n",
    "    rel_errs_dfs\n",
    ")  # https://stackoverflow.com/questions/32444138/concatenate-a-list-of-pandas-dataframes-together\n",
    "rel_errs_df_final"
   ]
  },
  {
   "cell_type": "code",
   "execution_count": 20,
   "metadata": {
    "colab": {
     "base_uri": "https://localhost:8080/",
     "height": 398
    },
    "executionInfo": {
     "elapsed": 61,
     "status": "ok",
     "timestamp": 1735981954690,
     "user": {
      "displayName": "Michel POHL",
      "userId": "15338116657512375953"
     },
     "user_tz": -60
    },
    "id": "oWpF_4Lw8QBg",
    "outputId": "b83b1a4b-8d93-4531-9103-5b3114991833"
   },
   "outputs": [
    {
     "data": {
      "text/plain": [
       "MAE 10 Hz      -0.535836\n",
       "MAE 30 Hz      -0.412000\n",
       "RMSE 10 Hz     -0.532729\n",
       "RMSE 30 Hz     -0.454850\n",
       "nRMSE 10 Hz    -0.531722\n",
       "nRMSE 30 Hz    -0.464335\n",
       "max 10 Hz      -0.383188\n",
       "max 30 Hz      -0.406827\n",
       "jitter 10 Hz   -0.535813\n",
       "jitter 30 Hz   -0.530603\n",
       "dtype: float64"
      ]
     },
     "execution_count": 20,
     "metadata": {},
     "output_type": "execute_result"
    }
   ],
   "source": [
    "rel_errs_rnn_df = rel_errs_df_final.loc[:, RNN_algs].mean(axis=\"columns\")\n",
    "rel_errs_rnn_df"
   ]
  },
  {
   "cell_type": "code",
   "execution_count": 21,
   "metadata": {
    "colab": {
     "base_uri": "https://localhost:8080/"
    },
    "executionInfo": {
     "elapsed": 59,
     "status": "ok",
     "timestamp": 1735981954690,
     "user": {
      "displayName": "Michel POHL",
      "userId": "15338116657512375953"
     },
     "user_tz": -60
    },
    "id": "HTiObppz80p6",
    "outputId": "9b04da19-34bd-4bd3-eade-e7422d0b9ada"
   },
   "outputs": [
    {
     "name": "stdout",
     "output_type": "stream",
     "text": [
      "-0.5334288668233816\n",
      "-0.4437282083412149\n"
     ]
    }
   ],
   "source": [
    "print(rel_errs_rnn_df.loc[[\"MAE 10 Hz\", \"RMSE 10 Hz\", \"nRMSE 10 Hz\"]].mean())\n",
    "print(rel_errs_rnn_df.loc[[\"MAE 30 Hz\", \"RMSE 30 Hz\", \"nRMSE 30 Hz\"]].mean())"
   ]
  },
  {
   "cell_type": "code",
   "execution_count": 22,
   "metadata": {
    "colab": {
     "base_uri": "https://localhost:8080/",
     "height": 398
    },
    "executionInfo": {
     "elapsed": 52,
     "status": "ok",
     "timestamp": 1735981954690,
     "user": {
      "displayName": "Michel POHL",
      "userId": "15338116657512375953"
     },
     "user_tz": -60
    },
    "id": "NGV5MdN_8ndY",
    "outputId": "d41fbf8b-d443-44b9-c5da-5e58eb395145"
   },
   "outputs": [
    {
     "data": {
      "text/plain": [
       "MAE 10 Hz      -0.365836\n",
       "MAE 30 Hz      -0.422830\n",
       "RMSE 10 Hz     -0.358583\n",
       "RMSE 30 Hz     -0.438627\n",
       "nRMSE 10 Hz    -0.358199\n",
       "nRMSE 30 Hz    -0.444239\n",
       "max 10 Hz      -0.226691\n",
       "max 30 Hz      -0.317397\n",
       "jitter 10 Hz   -0.292934\n",
       "jitter 30 Hz   -0.403591\n",
       "Name: LMS, dtype: float64"
      ]
     },
     "execution_count": 22,
     "metadata": {},
     "output_type": "execute_result"
    }
   ],
   "source": [
    "rel_errs_df_final.loc[:, \"LMS\"]"
   ]
  },
  {
   "cell_type": "code",
   "execution_count": 23,
   "metadata": {
    "colab": {
     "base_uri": "https://localhost:8080/"
    },
    "executionInfo": {
     "elapsed": 50,
     "status": "ok",
     "timestamp": 1735981954690,
     "user": {
      "displayName": "Michel POHL",
      "userId": "15338116657512375953"
     },
     "user_tz": -60
    },
    "id": "vJXIw1rZ9da4",
    "outputId": "61de048b-b73c-4c7d-93b3-ffc4b68de236"
   },
   "outputs": [
    {
     "name": "stdout",
     "output_type": "stream",
     "text": [
      "-0.3608724861201917\n",
      "-0.435232209539303\n"
     ]
    }
   ],
   "source": [
    "print(rel_errs_df_final.loc[:, \"LMS\"].loc[[\"MAE 10 Hz\", \"RMSE 10 Hz\", \"nRMSE 10 Hz\"]].mean())\n",
    "print(rel_errs_df_final.loc[:, \"LMS\"].loc[[\"MAE 30 Hz\", \"RMSE 30 Hz\", \"nRMSE 30 Hz\"]].mean())"
   ]
  },
  {
   "cell_type": "markdown",
   "metadata": {
    "id": "8TLzeGkNi3vD"
   },
   "source": [
    "# Variation with signal regularity"
   ]
  },
  {
   "cell_type": "markdown",
   "metadata": {
    "id": "pi0LNh1LlFI-"
   },
   "source": [
    "Tentative with simple example"
   ]
  },
  {
   "cell_type": "code",
   "execution_count": 24,
   "metadata": {
    "executionInfo": {
     "elapsed": 48,
     "status": "ok",
     "timestamp": 1735981954691,
     "user": {
      "displayName": "Michel POHL",
      "userId": "15338116657512375953"
     },
     "user_tz": -60
    },
    "id": "Xnw0W6YSi6rq"
   },
   "outputs": [],
   "source": [
    "errors_low_freq = {\n",
    "    \"RMSE\": {\n",
    "        \"RTRL\": {\"regular\": 1.7915, \"irregular\": 1.8015},\n",
    "        \"UORO\": {\"regular\": 1.5098, \"irregular\": 1.9580},\n",
    "        \"SnAp-1\": {\"regular\": 1.4019, \"irregular\": 1.7923},\n",
    "        \"DNI\": {\"regular\": 1.4415, \"irregular\": 1.6773},\n",
    "        \"LMS\": {\"regular\": 2.0329, \"irregular\": 2.4670},\n",
    "    },\n",
    "    \"max error\": {\n",
    "        \"RTRL\": {\"regular\": 8.219, \"irregular\": 12.191},\n",
    "        \"UORO\": {\"regular\": 7.691, \"irregular\": 14.004},\n",
    "        \"SnAp-1\": {\"regular\": 7.306, \"irregular\": 11.849},\n",
    "        \"DNI\": {\"regular\": 7.641, \"irregular\": 11.575},\n",
    "        \"LMS\": {\"regular\": 10.588, \"irregular\": 13.797},\n",
    "    },\n",
    "}"
   ]
  },
  {
   "cell_type": "code",
   "execution_count": 25,
   "metadata": {
    "colab": {
     "base_uri": "https://localhost:8080/",
     "height": 206
    },
    "executionInfo": {
     "elapsed": 47,
     "status": "ok",
     "timestamp": 1735981954691,
     "user": {
      "displayName": "Michel POHL",
      "userId": "15338116657512375953"
     },
     "user_tz": -60
    },
    "id": "jbYB6qjqkISE",
    "outputId": "2c386e2a-2758-48d8-de74-203a1604dc30"
   },
   "outputs": [
    {
     "data": {
      "text/html": [
       "<div>\n",
       "<style scoped>\n",
       "    .dataframe tbody tr th:only-of-type {\n",
       "        vertical-align: middle;\n",
       "    }\n",
       "\n",
       "    .dataframe tbody tr th {\n",
       "        vertical-align: top;\n",
       "    }\n",
       "\n",
       "    .dataframe thead th {\n",
       "        text-align: right;\n",
       "    }\n",
       "</style>\n",
       "<table border=\"1\" class=\"dataframe\">\n",
       "  <thead>\n",
       "    <tr style=\"text-align: right;\">\n",
       "      <th></th>\n",
       "      <th>regular</th>\n",
       "      <th>irregular</th>\n",
       "    </tr>\n",
       "  </thead>\n",
       "  <tbody>\n",
       "    <tr>\n",
       "      <th>RTRL</th>\n",
       "      <td>1.7915</td>\n",
       "      <td>1.8015</td>\n",
       "    </tr>\n",
       "    <tr>\n",
       "      <th>UORO</th>\n",
       "      <td>1.5098</td>\n",
       "      <td>1.9580</td>\n",
       "    </tr>\n",
       "    <tr>\n",
       "      <th>SnAp-1</th>\n",
       "      <td>1.4019</td>\n",
       "      <td>1.7923</td>\n",
       "    </tr>\n",
       "    <tr>\n",
       "      <th>DNI</th>\n",
       "      <td>1.4415</td>\n",
       "      <td>1.6773</td>\n",
       "    </tr>\n",
       "    <tr>\n",
       "      <th>LMS</th>\n",
       "      <td>2.0329</td>\n",
       "      <td>2.4670</td>\n",
       "    </tr>\n",
       "  </tbody>\n",
       "</table>\n",
       "</div>"
      ],
      "text/plain": [
       "        regular  irregular\n",
       "RTRL     1.7915     1.8015\n",
       "UORO     1.5098     1.9580\n",
       "SnAp-1   1.4019     1.7923\n",
       "DNI      1.4415     1.6773\n",
       "LMS      2.0329     2.4670"
      ]
     },
     "execution_count": 25,
     "metadata": {},
     "output_type": "execute_result"
    }
   ],
   "source": [
    "errors_low_freq_rmse_df = pd.DataFrame(errors_low_freq[\"RMSE\"]).transpose()\n",
    "errors_low_freq_rmse_df"
   ]
  },
  {
   "cell_type": "code",
   "execution_count": 26,
   "metadata": {
    "colab": {
     "base_uri": "https://localhost:8080/",
     "height": 206
    },
    "executionInfo": {
     "elapsed": 47,
     "status": "ok",
     "timestamp": 1735981954691,
     "user": {
      "displayName": "Michel POHL",
      "userId": "15338116657512375953"
     },
     "user_tz": -60
    },
    "id": "x8gM1G3YkUpD",
    "outputId": "91019b1a-1896-4c8f-cd07-01df43c77bfa"
   },
   "outputs": [
    {
     "data": {
      "text/html": [
       "<div>\n",
       "<style scoped>\n",
       "    .dataframe tbody tr th:only-of-type {\n",
       "        vertical-align: middle;\n",
       "    }\n",
       "\n",
       "    .dataframe tbody tr th {\n",
       "        vertical-align: top;\n",
       "    }\n",
       "\n",
       "    .dataframe thead th {\n",
       "        text-align: right;\n",
       "    }\n",
       "</style>\n",
       "<table border=\"1\" class=\"dataframe\">\n",
       "  <thead>\n",
       "    <tr style=\"text-align: right;\">\n",
       "      <th></th>\n",
       "      <th>regular</th>\n",
       "      <th>irregular</th>\n",
       "      <th>relative diff</th>\n",
       "    </tr>\n",
       "  </thead>\n",
       "  <tbody>\n",
       "    <tr>\n",
       "      <th>RTRL</th>\n",
       "      <td>1.7915</td>\n",
       "      <td>1.8015</td>\n",
       "      <td>0.005551</td>\n",
       "    </tr>\n",
       "    <tr>\n",
       "      <th>UORO</th>\n",
       "      <td>1.5098</td>\n",
       "      <td>1.9580</td>\n",
       "      <td>0.228907</td>\n",
       "    </tr>\n",
       "    <tr>\n",
       "      <th>SnAp-1</th>\n",
       "      <td>1.4019</td>\n",
       "      <td>1.7923</td>\n",
       "      <td>0.217821</td>\n",
       "    </tr>\n",
       "    <tr>\n",
       "      <th>DNI</th>\n",
       "      <td>1.4415</td>\n",
       "      <td>1.6773</td>\n",
       "      <td>0.140583</td>\n",
       "    </tr>\n",
       "    <tr>\n",
       "      <th>LMS</th>\n",
       "      <td>2.0329</td>\n",
       "      <td>2.4670</td>\n",
       "      <td>0.175963</td>\n",
       "    </tr>\n",
       "  </tbody>\n",
       "</table>\n",
       "</div>"
      ],
      "text/plain": [
       "        regular  irregular  relative diff\n",
       "RTRL     1.7915     1.8015       0.005551\n",
       "UORO     1.5098     1.9580       0.228907\n",
       "SnAp-1   1.4019     1.7923       0.217821\n",
       "DNI      1.4415     1.6773       0.140583\n",
       "LMS      2.0329     2.4670       0.175963"
      ]
     },
     "execution_count": 26,
     "metadata": {},
     "output_type": "execute_result"
    }
   ],
   "source": [
    "errors_low_freq_rmse_df[\"relative diff\"] = (\n",
    "    errors_low_freq_rmse_df[\"irregular\"] - errors_low_freq_rmse_df[\"regular\"]\n",
    ") / errors_low_freq_rmse_df[\"irregular\"]\n",
    "errors_low_freq_rmse_df"
   ]
  },
  {
   "cell_type": "code",
   "execution_count": 27,
   "metadata": {
    "colab": {
     "base_uri": "https://localhost:8080/",
     "height": 89
    },
    "executionInfo": {
     "elapsed": 45,
     "status": "ok",
     "timestamp": 1735981954691,
     "user": {
      "displayName": "Michel POHL",
      "userId": "15338116657512375953"
     },
     "user_tz": -60
    },
    "id": "4ZjtDIWgk2lG",
    "outputId": "6f1d56f9-b659-4290-d8ed-ba767ab3128d"
   },
   "outputs": [
    {
     "data": {
      "text/html": [
       "<div>\n",
       "<style scoped>\n",
       "    .dataframe tbody tr th:only-of-type {\n",
       "        vertical-align: middle;\n",
       "    }\n",
       "\n",
       "    .dataframe tbody tr th {\n",
       "        vertical-align: top;\n",
       "    }\n",
       "\n",
       "    .dataframe thead th {\n",
       "        text-align: right;\n",
       "    }\n",
       "</style>\n",
       "<table border=\"1\" class=\"dataframe\">\n",
       "  <thead>\n",
       "    <tr style=\"text-align: right;\">\n",
       "      <th></th>\n",
       "    </tr>\n",
       "  </thead>\n",
       "  <tbody>\n",
       "  </tbody>\n",
       "</table>\n",
       "</div>"
      ],
      "text/plain": [
       "Empty DataFrame\n",
       "Columns: []\n",
       "Index: []"
      ]
     },
     "execution_count": 27,
     "metadata": {},
     "output_type": "execute_result"
    }
   ],
   "source": [
    "a = pd.DataFrame(None)\n",
    "a"
   ]
  },
  {
   "cell_type": "code",
   "execution_count": 28,
   "metadata": {
    "colab": {
     "base_uri": "https://localhost:8080/",
     "height": 206
    },
    "executionInfo": {
     "elapsed": 44,
     "status": "ok",
     "timestamp": 1735981954691,
     "user": {
      "displayName": "Michel POHL",
      "userId": "15338116657512375953"
     },
     "user_tz": -60
    },
    "id": "w2GJUXook6SX",
    "outputId": "d02a82c7-570b-47bf-b0e3-3b62757e5543"
   },
   "outputs": [
    {
     "data": {
      "text/html": [
       "<div>\n",
       "<style scoped>\n",
       "    .dataframe tbody tr th:only-of-type {\n",
       "        vertical-align: middle;\n",
       "    }\n",
       "\n",
       "    .dataframe tbody tr th {\n",
       "        vertical-align: top;\n",
       "    }\n",
       "\n",
       "    .dataframe thead th {\n",
       "        text-align: right;\n",
       "    }\n",
       "</style>\n",
       "<table border=\"1\" class=\"dataframe\">\n",
       "  <thead>\n",
       "    <tr style=\"text-align: right;\">\n",
       "      <th></th>\n",
       "      <th>relative diff</th>\n",
       "    </tr>\n",
       "  </thead>\n",
       "  <tbody>\n",
       "    <tr>\n",
       "      <th>RTRL</th>\n",
       "      <td>0.005551</td>\n",
       "    </tr>\n",
       "    <tr>\n",
       "      <th>UORO</th>\n",
       "      <td>0.228907</td>\n",
       "    </tr>\n",
       "    <tr>\n",
       "      <th>SnAp-1</th>\n",
       "      <td>0.217821</td>\n",
       "    </tr>\n",
       "    <tr>\n",
       "      <th>DNI</th>\n",
       "      <td>0.140583</td>\n",
       "    </tr>\n",
       "    <tr>\n",
       "      <th>LMS</th>\n",
       "      <td>0.175963</td>\n",
       "    </tr>\n",
       "  </tbody>\n",
       "</table>\n",
       "</div>"
      ],
      "text/plain": [
       "        relative diff\n",
       "RTRL         0.005551\n",
       "UORO         0.228907\n",
       "SnAp-1       0.217821\n",
       "DNI          0.140583\n",
       "LMS          0.175963"
      ]
     },
     "execution_count": 28,
     "metadata": {},
     "output_type": "execute_result"
    }
   ],
   "source": [
    "a[\"relative diff\"] = (\n",
    "    errors_low_freq_rmse_df[\"irregular\"] - errors_low_freq_rmse_df[\"regular\"]\n",
    ") / errors_low_freq_rmse_df[\"irregular\"]\n",
    "a"
   ]
  },
  {
   "cell_type": "code",
   "execution_count": 29,
   "metadata": {
    "colab": {
     "base_uri": "https://localhost:8080/",
     "height": 241
    },
    "executionInfo": {
     "elapsed": 44,
     "status": "ok",
     "timestamp": 1735981954691,
     "user": {
      "displayName": "Michel POHL",
      "userId": "15338116657512375953"
     },
     "user_tz": -60
    },
    "id": "GcVg71a4qGq2",
    "outputId": "69c63aa2-26bc-47a2-91c3-ea03e7a0f4a2"
   },
   "outputs": [
    {
     "data": {
      "text/plain": [
       "RTRL      1.8015\n",
       "UORO      1.9580\n",
       "SnAp-1    1.7923\n",
       "DNI       1.6773\n",
       "LMS       2.4670\n",
       "dtype: float64"
      ]
     },
     "execution_count": 29,
     "metadata": {},
     "output_type": "execute_result"
    }
   ],
   "source": [
    "np.maximum(errors_low_freq_rmse_df[\"irregular\"], errors_low_freq_rmse_df[\"regular\"])"
   ]
  },
  {
   "cell_type": "markdown",
   "metadata": {
    "id": "fZvNf8F3lWDQ"
   },
   "source": [
    "More general analysis"
   ]
  },
  {
   "cell_type": "code",
   "execution_count": 30,
   "metadata": {
    "executionInfo": {
     "elapsed": 43,
     "status": "ok",
     "timestamp": 1735981954691,
     "user": {
      "displayName": "Michel POHL",
      "userId": "15338116657512375953"
     },
     "user_tz": -60
    },
    "id": "jWrdPdWglYAs"
   },
   "outputs": [],
   "source": [
    "errors = {\n",
    "    \"3.33 Hz\": {\n",
    "        \"MAE\": {\n",
    "            \"RTRL\": {\"regular\": 1.2975, \"irregular\": 1.2421},\n",
    "            \"UORO\": {\"regular\": 1.0738, \"irregular\": 1.2898},\n",
    "            \"SnAp-1\": {\"regular\": 0.9980, \"irregular\": 1.2090},\n",
    "            \"DNI\": {\"regular\": 1.0296, \"irregular\": 1.1882},\n",
    "            \"LMS\": {\"regular\": 1.4491, \"irregular\": 1.7463},\n",
    "            \"Linear regression\": {\"regular\": 4.2464, \"irregular\": 6.7573},\n",
    "            \"Kernel SVR\": {\"regular\": 2.4862, \"irregular\": 2.9836},\n",
    "        },\n",
    "        \"RMSE\": {\n",
    "            \"RTRL\": {\"regular\": 1.7915, \"irregular\": 1.8015},\n",
    "            \"UORO\": {\"regular\": 1.5098, \"irregular\": 1.9580},\n",
    "            \"SnAp-1\": {\"regular\": 1.4019, \"irregular\": 1.7923},\n",
    "            \"DNI\": {\"regular\": 1.4415, \"irregular\": 1.6773},\n",
    "            \"LMS\": {\"regular\": 2.0329, \"irregular\": 2.4670},\n",
    "            \"Linear regression\": {\"regular\": 5.7863, \"irregular\": 10.0626},\n",
    "            \"Kernel SVR\": {\"regular\": 3.2524, \"irregular\": 4.0006},\n",
    "        },\n",
    "        \"nRMSE\": {\n",
    "            \"RTRL\": {\"regular\": 0.44892, \"irregular\": 0.39203},\n",
    "            \"UORO\": {\"regular\": 0.40215, \"irregular\": 0.42236},\n",
    "            \"SnAp-1\": {\"regular\": 0.35136, \"irregular\": 0.38091},\n",
    "            \"DNI\": {\"regular\": 0.35993, \"irregular\": 0.36464},\n",
    "            \"LMS\": {\"regular\": 0.51221, \"irregular\": 0.55174},\n",
    "            \"Linear regression\": {\"regular\": 1.48894, \"irregular\": 2.41659},\n",
    "            \"Kernel SVR\": {\"regular\": 0.85002, \"irregular\": 0.87472},\n",
    "        },\n",
    "        \"max error\": {\n",
    "            \"RTRL\": {\"regular\": 8.219, \"irregular\": 12.191},\n",
    "            \"UORO\": {\"regular\": 7.691, \"irregular\": 14.004},\n",
    "            \"SnAp-1\": {\"regular\": 7.306, \"irregular\": 11.849},\n",
    "            \"DNI\": {\"regular\": 7.641, \"irregular\": 11.575},\n",
    "            \"LMS\": {\"regular\": 10.588, \"irregular\": 13.797},\n",
    "            \"Linear regression\": {\"regular\": 28.336, \"irregular\": 55.589},\n",
    "            \"Kernel SVR\": {\"regular\": 13.878, \"irregular\": 20.092},\n",
    "        },\n",
    "    },\n",
    "    \"10 Hz\": {\n",
    "        \"MAE\": {\n",
    "            \"RTRL\": {\"regular\": 0.6256, \"irregular\": 0.5671},\n",
    "            \"UORO\": {\"regular\": 0.4649, \"irregular\": 0.5909},\n",
    "            \"SnAp-1\": {\"regular\": 0.4822, \"irregular\": 0.4931},\n",
    "            \"DNI\": {\"regular\": 0.5260, \"irregular\": 0.5572},\n",
    "            \"LMS\": {\"regular\": 1.0329, \"irregular\": 1.0336},\n",
    "            \"Linear regression\": {\"regular\": 3.5464, \"irregular\": 6.8746},\n",
    "            \"Kernel SVR\": {\"regular\": 3.4113, \"irregular\": 2.9765},\n",
    "        },\n",
    "        \"RMSE\": {\n",
    "            \"RTRL\": {\"regular\": 0.8670, \"irregular\": 0.8384},\n",
    "            \"UORO\": {\"regular\": 0.6311, \"irregular\": 0.9019},\n",
    "            \"SnAp-1\": {\"regular\": 0.6978, \"irregular\": 0.7232},\n",
    "            \"DNI\": {\"regular\": 0.7181, \"irregular\": 0.8104},\n",
    "            \"LMS\": {\"regular\": 1.4452, \"irregular\": 1.4630},\n",
    "            \"Linear regression\": {\"regular\": 4.8163, \"irregular\": 10.0242},\n",
    "            \"Kernel SVR\": {\"regular\": 4.4461, \"irregular\": 3.9904},\n",
    "        },\n",
    "        \"nRMSE\": {\n",
    "            \"RTRL\": {\"regular\": 0.21804, \"irregular\": 0.18209},\n",
    "            \"UORO\": {\"regular\": 0.16883, \"irregular\": 0.19187},\n",
    "            \"SnAp-1\": {\"regular\": 0.35136, \"irregular\": 0.15549},\n",
    "            \"DNI\": {\"regular\": 0.18075, \"irregular\": 0.17284},\n",
    "            \"LMS\": {\"regular\": 0.34610, \"irregular\": 0.33496},\n",
    "            \"Linear regression\": {\"regular\": 1.28496, \"irregular\": 2.38513},\n",
    "            \"Kernel SVR\": {\"regular\": 1.13796, \"irregular\": 0.87857},\n",
    "        },\n",
    "        \"max error\": {\n",
    "            \"RTRL\": {\"regular\": 5.081, \"irregular\": 6.823},\n",
    "            \"UORO\": {\"regular\": 4.195, \"irregular\": 7.883},\n",
    "            \"SnAp-1\": {\"regular\": 5.818, \"irregular\": 6.460},\n",
    "            \"DNI\": {\"regular\": 5.154, \"irregular\": 6.883},\n",
    "            \"LMS\": {\"regular\": 9.375, \"irregular\": 9.231},\n",
    "            \"Linear regression\": {\"regular\": 23.469, \"irregular\": 55.550},\n",
    "            \"Kernel SVR\": {\"regular\": 16.630, \"irregular\": 19.678},\n",
    "        },\n",
    "    },\n",
    "    \"30 Hz\": {\n",
    "        \"MAE\": {\n",
    "            \"RTRL\": {\"regular\": 0.3555, \"irregular\": 0.3113},\n",
    "            \"UORO\": {\"regular\": 0.2486, \"irregular\": 0.3342},\n",
    "            \"SnAp-1\": {\"regular\": 0.2862, \"irregular\": 0.2954},\n",
    "            \"DNI\": {\"regular\": 0.2807, \"irregular\": 0.3160},\n",
    "            \"LMS\": {\"regular\": 0.6378, \"irregular\": 0.5339},\n",
    "            \"Linear regression\": {\"regular\": 4.4954, \"irregular\": 3.5473},\n",
    "            \"Kernel SVR\": {\"regular\": 4.10356, \"irregular\": 3.1881},\n",
    "        },\n",
    "        \"RMSE\": {\n",
    "            \"RTRL\": {\"regular\": 0.4739, \"irregular\": 0.4075},\n",
    "            \"UORO\": {\"regular\": 0.3246, \"irregular\": 0.4323},\n",
    "            \"SnAp-1\": {\"regular\": 0.4007, \"irregular\": 0.3713},\n",
    "            \"DNI\": {\"regular\": 0.3756, \"irregular\": 0.3953},\n",
    "            \"LMS\": {\"regular\": 0.8809, \"irregular\": 0.7135},\n",
    "            \"Linear regression\": {\"regular\": 6.2560, \"irregular\": 10.1977},\n",
    "            \"Kernel SVR\": {\"regular\": 5.3185, \"irregular\": 4.2630},\n",
    "        },\n",
    "        \"nRMSE\": {\n",
    "            \"RTRL\": {\"regular\": 0.11728, \"irregular\": 0.08907},\n",
    "            \"UORO\": {\"regular\": 0.08706, \"irregular\": 0.09374},\n",
    "            \"SnAp-1\": {\"regular\": 0.10339, \"irregular\": 0.08049},\n",
    "            \"DNI\": {\"regular\": 0.09764, \"irregular\": 0.08618},\n",
    "            \"LMS\": {\"regular\": 0.20570, \"irregular\": 0.16447},\n",
    "            \"Linear regression\": {\"regular\": 1.72509, \"irregular\": 2.44359},\n",
    "            \"Kernel SVR\": {\"regular\": 1.35082, \"irregular\": 0.94697},\n",
    "        },\n",
    "        \"max error\": {\n",
    "            \"RTRL\": {\"regular\": 3.364, \"irregular\": 3.603},\n",
    "            \"UORO\": {\"regular\": 2.607, \"irregular\": 3.855},\n",
    "            \"SnAp-1\": {\"regular\": 4.043, \"irregular\": 3.136},\n",
    "            \"DNI\": {\"regular\": 3.123, \"irregular\": 2.863},\n",
    "            \"LMS\": {\"regular\": 6.966, \"irregular\": 5.330},\n",
    "            \"Linear regression\": {\"regular\": 31.715, \"irregular\": 54.237},\n",
    "            \"Kernel SVR\": {\"regular\": 19.501, \"irregular\": 20.875},\n",
    "        },\n",
    "    },\n",
    "}"
   ]
  },
  {
   "cell_type": "code",
   "execution_count": 31,
   "metadata": {
    "colab": {
     "base_uri": "https://localhost:8080/",
     "height": 358
    },
    "executionInfo": {
     "elapsed": 43,
     "status": "ok",
     "timestamp": 1735981954691,
     "user": {
      "displayName": "Michel POHL",
      "userId": "15338116657512375953"
     },
     "user_tz": -60
    },
    "id": "0QMymG3smg2i",
    "outputId": "bc4f5d6b-ee3b-4e23-b76a-c0eecd0c06bb"
   },
   "outputs": [
    {
     "data": {
      "text/html": [
       "<div>\n",
       "<style scoped>\n",
       "    .dataframe tbody tr th:only-of-type {\n",
       "        vertical-align: middle;\n",
       "    }\n",
       "\n",
       "    .dataframe tbody tr th {\n",
       "        vertical-align: top;\n",
       "    }\n",
       "\n",
       "    .dataframe thead th {\n",
       "        text-align: right;\n",
       "    }\n",
       "</style>\n",
       "<table border=\"1\" class=\"dataframe\">\n",
       "  <thead>\n",
       "    <tr style=\"text-align: right;\">\n",
       "      <th></th>\n",
       "      <th>3.33 Hz MAE</th>\n",
       "      <th>3.33 Hz RMSE</th>\n",
       "      <th>3.33 Hz nRMSE</th>\n",
       "      <th>3.33 Hz max error</th>\n",
       "      <th>10 Hz MAE</th>\n",
       "      <th>10 Hz RMSE</th>\n",
       "      <th>10 Hz nRMSE</th>\n",
       "      <th>10 Hz max error</th>\n",
       "      <th>30 Hz MAE</th>\n",
       "      <th>30 Hz RMSE</th>\n",
       "      <th>30 Hz nRMSE</th>\n",
       "      <th>30 Hz max error</th>\n",
       "    </tr>\n",
       "  </thead>\n",
       "  <tbody>\n",
       "    <tr>\n",
       "      <th>RTRL</th>\n",
       "      <td>0.044602</td>\n",
       "      <td>0.005582</td>\n",
       "      <td>0.145116</td>\n",
       "      <td>0.483270</td>\n",
       "      <td>0.103156</td>\n",
       "      <td>0.034113</td>\n",
       "      <td>0.197430</td>\n",
       "      <td>0.342846</td>\n",
       "      <td>0.141985</td>\n",
       "      <td>0.162945</td>\n",
       "      <td>0.316717</td>\n",
       "      <td>0.071046</td>\n",
       "    </tr>\n",
       "    <tr>\n",
       "      <th>UORO</th>\n",
       "      <td>0.201155</td>\n",
       "      <td>0.296861</td>\n",
       "      <td>0.050255</td>\n",
       "      <td>0.820830</td>\n",
       "      <td>0.271026</td>\n",
       "      <td>0.429092</td>\n",
       "      <td>0.136469</td>\n",
       "      <td>0.879142</td>\n",
       "      <td>0.344328</td>\n",
       "      <td>0.331793</td>\n",
       "      <td>0.076729</td>\n",
       "      <td>0.478711</td>\n",
       "    </tr>\n",
       "    <tr>\n",
       "      <th>SnAp-1</th>\n",
       "      <td>0.211423</td>\n",
       "      <td>0.278479</td>\n",
       "      <td>0.084102</td>\n",
       "      <td>0.621818</td>\n",
       "      <td>0.022605</td>\n",
       "      <td>0.036400</td>\n",
       "      <td>1.259695</td>\n",
       "      <td>0.110347</td>\n",
       "      <td>0.032145</td>\n",
       "      <td>0.079181</td>\n",
       "      <td>0.284507</td>\n",
       "      <td>0.289222</td>\n",
       "    </tr>\n",
       "    <tr>\n",
       "      <th>DNI</th>\n",
       "      <td>0.154040</td>\n",
       "      <td>0.163580</td>\n",
       "      <td>0.013086</td>\n",
       "      <td>0.514854</td>\n",
       "      <td>0.059316</td>\n",
       "      <td>0.128534</td>\n",
       "      <td>0.045765</td>\n",
       "      <td>0.335468</td>\n",
       "      <td>0.125757</td>\n",
       "      <td>0.052449</td>\n",
       "      <td>0.132977</td>\n",
       "      <td>0.090814</td>\n",
       "    </tr>\n",
       "    <tr>\n",
       "      <th>LMS</th>\n",
       "      <td>0.205093</td>\n",
       "      <td>0.213537</td>\n",
       "      <td>0.077175</td>\n",
       "      <td>0.303079</td>\n",
       "      <td>0.000678</td>\n",
       "      <td>0.012317</td>\n",
       "      <td>0.033258</td>\n",
       "      <td>0.015600</td>\n",
       "      <td>0.194606</td>\n",
       "      <td>0.234618</td>\n",
       "      <td>0.250684</td>\n",
       "      <td>0.306942</td>\n",
       "    </tr>\n",
       "    <tr>\n",
       "      <th>Linear regression</th>\n",
       "      <td>0.591301</td>\n",
       "      <td>0.739039</td>\n",
       "      <td>0.623027</td>\n",
       "      <td>0.961780</td>\n",
       "      <td>0.938473</td>\n",
       "      <td>1.081307</td>\n",
       "      <td>0.856190</td>\n",
       "      <td>1.366952</td>\n",
       "      <td>0.267274</td>\n",
       "      <td>0.630067</td>\n",
       "      <td>0.416500</td>\n",
       "      <td>0.710137</td>\n",
       "    </tr>\n",
       "    <tr>\n",
       "      <th>Kernel SVR</th>\n",
       "      <td>0.200064</td>\n",
       "      <td>0.230046</td>\n",
       "      <td>0.029058</td>\n",
       "      <td>0.447759</td>\n",
       "      <td>0.146078</td>\n",
       "      <td>0.114199</td>\n",
       "      <td>0.295241</td>\n",
       "      <td>0.183283</td>\n",
       "      <td>0.287149</td>\n",
       "      <td>0.247596</td>\n",
       "      <td>0.426465</td>\n",
       "      <td>0.070458</td>\n",
       "    </tr>\n",
       "  </tbody>\n",
       "</table>\n",
       "</div>"
      ],
      "text/plain": [
       "                   3.33 Hz MAE  3.33 Hz RMSE  3.33 Hz nRMSE  \\\n",
       "RTRL                  0.044602      0.005582       0.145116   \n",
       "UORO                  0.201155      0.296861       0.050255   \n",
       "SnAp-1                0.211423      0.278479       0.084102   \n",
       "DNI                   0.154040      0.163580       0.013086   \n",
       "LMS                   0.205093      0.213537       0.077175   \n",
       "Linear regression     0.591301      0.739039       0.623027   \n",
       "Kernel SVR            0.200064      0.230046       0.029058   \n",
       "\n",
       "                   3.33 Hz max error  10 Hz MAE  10 Hz RMSE  10 Hz nRMSE  \\\n",
       "RTRL                        0.483270   0.103156    0.034113     0.197430   \n",
       "UORO                        0.820830   0.271026    0.429092     0.136469   \n",
       "SnAp-1                      0.621818   0.022605    0.036400     1.259695   \n",
       "DNI                         0.514854   0.059316    0.128534     0.045765   \n",
       "LMS                         0.303079   0.000678    0.012317     0.033258   \n",
       "Linear regression           0.961780   0.938473    1.081307     0.856190   \n",
       "Kernel SVR                  0.447759   0.146078    0.114199     0.295241   \n",
       "\n",
       "                   10 Hz max error  30 Hz MAE  30 Hz RMSE  30 Hz nRMSE  \\\n",
       "RTRL                      0.342846   0.141985    0.162945     0.316717   \n",
       "UORO                      0.879142   0.344328    0.331793     0.076729   \n",
       "SnAp-1                    0.110347   0.032145    0.079181     0.284507   \n",
       "DNI                       0.335468   0.125757    0.052449     0.132977   \n",
       "LMS                       0.015600   0.194606    0.234618     0.250684   \n",
       "Linear regression         1.366952   0.267274    0.630067     0.416500   \n",
       "Kernel SVR                0.183283   0.287149    0.247596     0.426465   \n",
       "\n",
       "                   30 Hz max error  \n",
       "RTRL                      0.071046  \n",
       "UORO                      0.478711  \n",
       "SnAp-1                    0.289222  \n",
       "DNI                       0.090814  \n",
       "LMS                       0.306942  \n",
       "Linear regression         0.710137  \n",
       "Kernel SVR                0.070458  "
      ]
     },
     "execution_count": 31,
     "metadata": {},
     "output_type": "execute_result"
    }
   ],
   "source": [
    "rel_errors_df = pd.DataFrame(None)\n",
    "\n",
    "for freq_str, same_freq_errors in errors.items():\n",
    "    for error_type_str, same_type_and_freq_errors in same_freq_errors.items():\n",
    "        same_type_and_freq_errors_df = pd.DataFrame(same_type_and_freq_errors).transpose()\n",
    "        rel_errors_df[freq_str + \" \" + error_type_str] = np.abs(\n",
    "            same_type_and_freq_errors_df[\"irregular\"] - same_type_and_freq_errors_df[\"regular\"]\n",
    "        ) / np.minimum(same_type_and_freq_errors_df[\"irregular\"], same_type_and_freq_errors_df[\"regular\"])\n",
    "\n",
    "# the relative increase (because the minimum is at the denominator)\n",
    "rel_errors_df"
   ]
  },
  {
   "cell_type": "code",
   "execution_count": 32,
   "metadata": {
    "colab": {
     "base_uri": "https://localhost:8080/",
     "height": 460
    },
    "executionInfo": {
     "elapsed": 43,
     "status": "ok",
     "timestamp": 1735981954692,
     "user": {
      "displayName": "Michel POHL",
      "userId": "15338116657512375953"
     },
     "user_tz": -60
    },
    "id": "435dhgHDoIAI",
    "outputId": "b69b508b-e529-48ac-d4d7-d6096f2f1acd"
   },
   "outputs": [
    {
     "data": {
      "text/plain": [
       "3.33 Hz MAE          0.152805\n",
       "3.33 Hz RMSE         0.186125\n",
       "3.33 Hz nRMSE        0.073140\n",
       "3.33 Hz max error    0.610193\n",
       "10 Hz MAE            0.114026\n",
       "10 Hz RMSE           0.157035\n",
       "10 Hz nRMSE          0.409840\n",
       "10 Hz max error      0.416951\n",
       "30 Hz MAE            0.161054\n",
       "30 Hz RMSE           0.156592\n",
       "30 Hz nRMSE          0.202733\n",
       "30 Hz max error      0.232448\n",
       "dtype: float64"
      ]
     },
     "execution_count": 32,
     "metadata": {},
     "output_type": "execute_result"
    }
   ],
   "source": [
    "rel_errors_df.loc[[\"RTRL\", \"UORO\", \"SnAp-1\", \"DNI\"], :].mean()"
   ]
  },
  {
   "cell_type": "code",
   "execution_count": 33,
   "metadata": {
    "colab": {
     "base_uri": "https://localhost:8080/",
     "height": 460
    },
    "executionInfo": {
     "elapsed": 42,
     "status": "ok",
     "timestamp": 1735981954692,
     "user": {
      "displayName": "Michel POHL",
      "userId": "15338116657512375953"
     },
     "user_tz": -60
    },
    "id": "4NfZ-BkppXTo",
    "outputId": "4d5f10e3-63aa-4ab4-a629-9b537ccc2251"
   },
   "outputs": [
    {
     "data": {
      "text/plain": [
       "3.33 Hz MAE          0.188873\n",
       "3.33 Hz RMSE         0.246306\n",
       "3.33 Hz nRMSE        0.049148\n",
       "3.33 Hz max error    0.652500\n",
       "10 Hz MAE            0.117649\n",
       "10 Hz RMSE           0.198009\n",
       "10 Hz nRMSE          0.480643\n",
       "10 Hz max error      0.441652\n",
       "30 Hz MAE            0.167410\n",
       "30 Hz RMSE           0.154475\n",
       "30 Hz nRMSE          0.164738\n",
       "30 Hz max error      0.286249\n",
       "dtype: float64"
      ]
     },
     "execution_count": 33,
     "metadata": {},
     "output_type": "execute_result"
    }
   ],
   "source": [
    "rel_errors_df.loc[[\"UORO\", \"SnAp-1\", \"DNI\"], :].mean()"
   ]
  },
  {
   "cell_type": "code",
   "execution_count": 34,
   "metadata": {
    "colab": {
     "base_uri": "https://localhost:8080/"
    },
    "executionInfo": {
     "elapsed": 43,
     "status": "ok",
     "timestamp": 1735981954693,
     "user": {
      "displayName": "Michel POHL",
      "userId": "15338116657512375953"
     },
     "user_tz": -60
    },
    "id": "8HgSGeerM-T-",
    "outputId": "23916c55-0d5d-478f-91da-4b858e71e366"
   },
   "outputs": [
    {
     "name": "stdout",
     "output_type": "stream",
     "text": [
      "Increases in the case of period and amplitude irregularities\n",
      "0.1523390643742504\n",
      "0.1499608457321848\n",
      "0.17152513730460497\n",
      "\n",
      "Increases in the case of period irregularities\n",
      "0.03998400639744106\n",
      "0.018794048551291975\n",
      "0.029150823827629985\n"
     ]
    }
   ],
   "source": [
    "# RMSE percentage increase in Jeong et al.\n",
    "\n",
    "print(\"Increases in the case of period and amplitude irregularities\")\n",
    "lstm_increase = (0.2882 - 0.2501) / 0.2501\n",
    "bi_lstm_increase = (0.2937 - 0.2554) / 0.2554\n",
    "transformer_increase = (0.2773 - 0.2367) / 0.2367\n",
    "\n",
    "print(lstm_increase)\n",
    "print(bi_lstm_increase)\n",
    "print(transformer_increase)\n",
    "\n",
    "print(\"\\nIncreases in the case of period irregularities\")\n",
    "lstm_increase = (0.2601 - 0.2501) / 0.2501\n",
    "bi_lstm_increase = (0.2602 - 0.2554) / 0.2554\n",
    "transformer_increase = (0.2436 - 0.2367) / 0.2367\n",
    "\n",
    "print(lstm_increase)\n",
    "print(bi_lstm_increase)\n",
    "print(transformer_increase)"
   ]
  },
  {
   "cell_type": "markdown",
   "metadata": {
    "id": "o5gcAzA7gZ2k"
   },
   "source": [
    "Analysis for sequence 7"
   ]
  },
  {
   "cell_type": "code",
   "execution_count": 35,
   "metadata": {
    "colab": {
     "base_uri": "https://localhost:8080/",
     "height": 426
    },
    "executionInfo": {
     "elapsed": 977,
     "status": "ok",
     "timestamp": 1735981955632,
     "user": {
      "displayName": "Michel POHL",
      "userId": "15338116657512375953"
     },
     "user_tz": -60
    },
    "id": "Wchmq-mBghG5",
    "outputId": "6dc352c7-cbae-422f-e84e-819decdac104"
   },
   "outputs": [
    {
     "data": {
      "text/html": [
       "<div>\n",
       "<style scoped>\n",
       "    .dataframe tbody tr th:only-of-type {\n",
       "        vertical-align: middle;\n",
       "    }\n",
       "\n",
       "    .dataframe tbody tr th {\n",
       "        vertical-align: top;\n",
       "    }\n",
       "\n",
       "    .dataframe thead th {\n",
       "        text-align: right;\n",
       "    }\n",
       "</style>\n",
       "<table border=\"1\" class=\"dataframe\">\n",
       "  <thead>\n",
       "    <tr style=\"text-align: right;\">\n",
       "      <th></th>\n",
       "      <th>sq 7</th>\n",
       "      <th>avg over all sq</th>\n",
       "      <th>rel decrease</th>\n",
       "    </tr>\n",
       "  </thead>\n",
       "  <tbody>\n",
       "    <tr>\n",
       "      <th>RTRL 3.33Hz</th>\n",
       "      <td>0.2080</td>\n",
       "      <td>0.4031</td>\n",
       "      <td>0.483999</td>\n",
       "    </tr>\n",
       "    <tr>\n",
       "      <th>UORO 3.33Hz</th>\n",
       "      <td>0.1813</td>\n",
       "      <td>0.3843</td>\n",
       "      <td>0.528233</td>\n",
       "    </tr>\n",
       "    <tr>\n",
       "      <th>SnAp1 3.33Hz</th>\n",
       "      <td>0.1125</td>\n",
       "      <td>0.3347</td>\n",
       "      <td>0.663878</td>\n",
       "    </tr>\n",
       "    <tr>\n",
       "      <th>DNI 3.33Hz</th>\n",
       "      <td>0.1356</td>\n",
       "      <td>0.3366</td>\n",
       "      <td>0.597148</td>\n",
       "    </tr>\n",
       "    <tr>\n",
       "      <th>RTRL 10Hz</th>\n",
       "      <td>0.1184</td>\n",
       "      <td>0.1950</td>\n",
       "      <td>0.392821</td>\n",
       "    </tr>\n",
       "    <tr>\n",
       "      <th>UORO 10Hz</th>\n",
       "      <td>0.0745</td>\n",
       "      <td>0.1660</td>\n",
       "      <td>0.551205</td>\n",
       "    </tr>\n",
       "    <tr>\n",
       "      <th>SnAp1 10Hz</th>\n",
       "      <td>0.0508</td>\n",
       "      <td>0.1567</td>\n",
       "      <td>0.675814</td>\n",
       "    </tr>\n",
       "    <tr>\n",
       "      <th>DNI 10Hz</th>\n",
       "      <td>0.0597</td>\n",
       "      <td>0.1647</td>\n",
       "      <td>0.637523</td>\n",
       "    </tr>\n",
       "    <tr>\n",
       "      <th>RTRL 30Hz</th>\n",
       "      <td>0.0605</td>\n",
       "      <td>0.1015</td>\n",
       "      <td>0.403941</td>\n",
       "    </tr>\n",
       "    <tr>\n",
       "      <th>UORO 30Hz</th>\n",
       "      <td>0.0551</td>\n",
       "      <td>0.0857</td>\n",
       "      <td>0.357060</td>\n",
       "    </tr>\n",
       "    <tr>\n",
       "      <th>SnAp1 30Hz</th>\n",
       "      <td>0.0484</td>\n",
       "      <td>0.0896</td>\n",
       "      <td>0.459821</td>\n",
       "    </tr>\n",
       "    <tr>\n",
       "      <th>DNI 30Hz</th>\n",
       "      <td>0.0438</td>\n",
       "      <td>0.0874</td>\n",
       "      <td>0.498856</td>\n",
       "    </tr>\n",
       "  </tbody>\n",
       "</table>\n",
       "</div>"
      ],
      "text/plain": [
       "                sq 7  avg over all sq  rel decrease\n",
       "RTRL 3.33Hz   0.2080           0.4031      0.483999\n",
       "UORO 3.33Hz   0.1813           0.3843      0.528233\n",
       "SnAp1 3.33Hz  0.1125           0.3347      0.663878\n",
       "DNI 3.33Hz    0.1356           0.3366      0.597148\n",
       "RTRL 10Hz     0.1184           0.1950      0.392821\n",
       "UORO 10Hz     0.0745           0.1660      0.551205\n",
       "SnAp1 10Hz    0.0508           0.1567      0.675814\n",
       "DNI 10Hz      0.0597           0.1647      0.637523\n",
       "RTRL 30Hz     0.0605           0.1015      0.403941\n",
       "UORO 30Hz     0.0551           0.0857      0.357060\n",
       "SnAp1 30Hz    0.0484           0.0896      0.459821\n",
       "DNI 30Hz      0.0438           0.0874      0.498856"
      ]
     },
     "execution_count": 35,
     "metadata": {},
     "output_type": "execute_result"
    }
   ],
   "source": [
    "nrmse = {\n",
    "    \"RTRL 3.33Hz\": [0.2080, 0.4031],\n",
    "    \"UORO 3.33Hz\": [0.1813, 0.3843],\n",
    "    \"SnAp1 3.33Hz\": [0.1125, 0.3347],\n",
    "    \"DNI 3.33Hz\": [0.1356, 0.3366],\n",
    "    \"RTRL 10Hz\": [0.1184, 0.1950],\n",
    "    \"UORO 10Hz\": [0.0745, 0.1660],\n",
    "    \"SnAp1 10Hz\": [0.0508, 0.1567],\n",
    "    \"DNI 10Hz\": [0.0597, 0.1647],\n",
    "    \"RTRL 30Hz\": [0.0605, 0.1015],\n",
    "    \"UORO 30Hz\": [0.0551, 0.0857],\n",
    "    \"SnAp1 30Hz\": [0.0484, 0.0896],\n",
    "    \"DNI 30Hz\": [0.0438, 0.0874],\n",
    "}\n",
    "\n",
    "nrmse_df = pd.DataFrame.from_dict(nrmse, orient=\"index\", columns=[\"sq 7\", \"avg over all sq\"])\n",
    "nrmse_df[\"rel decrease\"] = (nrmse_df[\"avg over all sq\"] - nrmse_df[\"sq 7\"]) / nrmse_df[\"avg over all sq\"]\n",
    "nrmse_df"
   ]
  },
  {
   "cell_type": "code",
   "execution_count": 36,
   "metadata": {
    "colab": {
     "base_uri": "https://localhost:8080/"
    },
    "executionInfo": {
     "elapsed": 77,
     "status": "ok",
     "timestamp": 1735981955633,
     "user": {
      "displayName": "Michel POHL",
      "userId": "15338116657512375953"
     },
     "user_tz": -60
    },
    "id": "Br2poqRUjn_u",
    "outputId": "a5f62e96-914e-4a48-826b-c241520e07c3"
   },
   "outputs": [
    {
     "data": {
      "text/plain": [
       "0.5683145521885886"
      ]
     },
     "execution_count": 36,
     "metadata": {},
     "output_type": "execute_result"
    }
   ],
   "source": [
    "nrmse_df.loc[[\"RTRL 3.33Hz\", \"UORO 3.33Hz\", \"SnAp1 3.33Hz\", \"DNI 3.33Hz\"], \"rel decrease\"].mean()"
   ]
  },
  {
   "cell_type": "code",
   "execution_count": 37,
   "metadata": {
    "colab": {
     "base_uri": "https://localhost:8080/"
    },
    "executionInfo": {
     "elapsed": 74,
     "status": "ok",
     "timestamp": 1735981955633,
     "user": {
      "displayName": "Michel POHL",
      "userId": "15338116657512375953"
     },
     "user_tz": -60
    },
    "id": "gMMom_zqkrQ9",
    "outputId": "9153af93-0c2c-4f02-93fe-e889d43d18bc"
   },
   "outputs": [
    {
     "data": {
      "text/plain": [
       "0.5643404393591812"
      ]
     },
     "execution_count": 37,
     "metadata": {},
     "output_type": "execute_result"
    }
   ],
   "source": [
    "nrmse_df.loc[[\"RTRL 10Hz\", \"UORO 10Hz\", \"SnAp1 10Hz\", \"DNI 10Hz\"], \"rel decrease\"].mean()"
   ]
  },
  {
   "cell_type": "code",
   "execution_count": 38,
   "metadata": {
    "colab": {
     "base_uri": "https://localhost:8080/"
    },
    "executionInfo": {
     "elapsed": 71,
     "status": "ok",
     "timestamp": 1735981955633,
     "user": {
      "displayName": "Michel POHL",
      "userId": "15338116657512375953"
     },
     "user_tz": -60
    },
    "id": "zl0NE0Gnl3_B",
    "outputId": "399ffcef-548f-4c8f-c879-8229680d6027"
   },
   "outputs": [
    {
     "data": {
      "text/plain": [
       "0.42991941510738263"
      ]
     },
     "execution_count": 38,
     "metadata": {},
     "output_type": "execute_result"
    }
   ],
   "source": [
    "nrmse_df.loc[[\"RTRL 30Hz\", \"UORO 30Hz\", \"SnAp1 30Hz\", \"DNI 30Hz\"], \"rel decrease\"].mean()"
   ]
  },
  {
   "cell_type": "code",
   "execution_count": 39,
   "metadata": {
    "colab": {
     "base_uri": "https://localhost:8080/"
    },
    "executionInfo": {
     "elapsed": 69,
     "status": "ok",
     "timestamp": 1735981955633,
     "user": {
      "displayName": "Michel POHL",
      "userId": "15338116657512375953"
     },
     "user_tz": -60
    },
    "id": "lsimKmM6mBN2",
    "outputId": "265f1655-2733-4e7f-e55c-2bd16a14c63b"
   },
   "outputs": [
    {
     "data": {
      "text/plain": [
       "0.5208581355517174"
      ]
     },
     "execution_count": 39,
     "metadata": {},
     "output_type": "execute_result"
    }
   ],
   "source": [
    "nrmse_df.loc[:, \"rel decrease\"].mean()"
   ]
  },
  {
   "cell_type": "markdown",
   "metadata": {
    "id": "fAlaREBe-8qL"
   },
   "source": [
    "# Influence of parameters"
   ]
  },
  {
   "cell_type": "markdown",
   "metadata": {
    "id": "wh16H1d8CEdf"
   },
   "source": [
    "Learning rate influence SnAp-1 3.33Hz"
   ]
  },
  {
   "cell_type": "code",
   "execution_count": 40,
   "metadata": {
    "colab": {
     "base_uri": "https://localhost:8080/"
    },
    "executionInfo": {
     "elapsed": 68,
     "status": "ok",
     "timestamp": 1735981955634,
     "user": {
      "displayName": "Michel POHL",
      "userId": "15338116657512375953"
     },
     "user_tz": -60
    },
    "id": "hFNCe_pY--qO",
    "outputId": "e932349f-3ab1-40db-f559-024df947111b"
   },
   "outputs": [
    {
     "data": {
      "text/plain": [
       "0.02650102176522109"
      ]
     },
     "execution_count": 40,
     "metadata": {},
     "output_type": "execute_result"
    }
   ],
   "source": [
    "(0.30829 - 0.30012) / 0.30829"
   ]
  },
  {
   "cell_type": "markdown",
   "metadata": {
    "id": "U2Uq9ZsxCeol"
   },
   "source": [
    "SHL influence UORO"
   ]
  },
  {
   "cell_type": "code",
   "execution_count": 41,
   "metadata": {
    "colab": {
     "base_uri": "https://localhost:8080/"
    },
    "executionInfo": {
     "elapsed": 65,
     "status": "ok",
     "timestamp": 1735981955634,
     "user": {
      "displayName": "Michel POHL",
      "userId": "15338116657512375953"
     },
     "user_tz": -60
    },
    "id": "k1wViNgrCaKo",
    "outputId": "620f3090-dc0b-44a4-f51e-8562a3021068"
   },
   "outputs": [
    {
     "name": "stdout",
     "output_type": "stream",
     "text": [
      "UORO 3.33Hz relative decrease: 0.2192716236722306\n",
      "UORO 10Hz relative decrease: 0.2504617657923901\n",
      "UORO 30Hz relative decrease: 0.19755747126436782\n",
      "UORO 3.33Hz decrease: 0.11559999999999998\n",
      "UORO 10Hz decrease: 0.0678\n",
      "UORO 30Hz decrease: 0.027499999999999997\n"
     ]
    }
   ],
   "source": [
    "uoro_low_freq_high_val = 0.5272\n",
    "uoro_low_freq_low_val = 0.4116\n",
    "uoro_med_freq_high_val = 0.2707\n",
    "uoro_med_freq_low_val = 0.2029\n",
    "uoro_high_freq_high_val = 0.1392\n",
    "uoro_high_freq_low_val = 0.1117\n",
    "\n",
    "uoro_low_freq_variation = uoro_low_freq_high_val - uoro_low_freq_low_val\n",
    "uoro_medium_freq_variation = uoro_med_freq_high_val - uoro_med_freq_low_val\n",
    "uoro_high_freq_variation = uoro_high_freq_high_val - uoro_high_freq_low_val\n",
    "\n",
    "uoro_low_freq_rel_variation = uoro_low_freq_variation / uoro_low_freq_high_val\n",
    "uoro_medium_freq_rel_variation = uoro_medium_freq_variation / uoro_med_freq_high_val\n",
    "uoro_high_freq_rel_variation = uoro_high_freq_variation / uoro_high_freq_high_val\n",
    "\n",
    "print(f\"UORO 3.33Hz relative decrease: {uoro_low_freq_rel_variation}\")\n",
    "print(f\"UORO 10Hz relative decrease: {uoro_medium_freq_rel_variation}\")\n",
    "print(f\"UORO 30Hz relative decrease: {uoro_high_freq_rel_variation}\")\n",
    "\n",
    "print(f\"UORO 3.33Hz decrease: {uoro_low_freq_variation}\")\n",
    "print(f\"UORO 10Hz decrease: {uoro_medium_freq_variation}\")\n",
    "print(f\"UORO 30Hz decrease: {uoro_high_freq_variation}\")"
   ]
  },
  {
   "cell_type": "code",
   "execution_count": 42,
   "metadata": {
    "colab": {
     "base_uri": "https://localhost:8080/"
    },
    "executionInfo": {
     "elapsed": 62,
     "status": "ok",
     "timestamp": 1735981955634,
     "user": {
      "displayName": "Michel POHL",
      "userId": "15338116657512375953"
     },
     "user_tz": -60
    },
    "id": "qG9zAe9PIy6K",
    "outputId": "4d3eca76-4cac-4519-c403-53eaa2557428"
   },
   "outputs": [
    {
     "name": "stdout",
     "output_type": "stream",
     "text": [
      "Snap-1 3.33Hz relative variation: 0.08084464555052787\n",
      "Snap-1 10Hz relative variation: 0.05687499999999998\n",
      "Snap-1 30Hz relative variation: 0.02461538461538461\n",
      "Snap-1 3.33Hz variation: 0.02679999999999999\n",
      "Snap-1 10Hz variation: 0.009099999999999997\n",
      "Snap-1 30Hz variation: 0.0023999999999999994\n"
     ]
    }
   ],
   "source": [
    "snap_low_freq_high_val = 0.3315\n",
    "snap_low_freq_low_val = 0.3047\n",
    "snap_med_freq_high_val = 0.1600\n",
    "snap_med_freq_low_val = 0.1509\n",
    "snap_high_freq_high_val = 0.0975\n",
    "snap_high_freq_low_val = 0.0951\n",
    "\n",
    "snap_low_freq_variation = snap_low_freq_high_val - snap_low_freq_low_val\n",
    "snap_medium_freq_variation = snap_med_freq_high_val - snap_med_freq_low_val\n",
    "snap_high_freq_variation = snap_high_freq_high_val - snap_high_freq_low_val\n",
    "\n",
    "snap_low_freq_rel_variation = snap_low_freq_variation / snap_low_freq_high_val\n",
    "snap_medium_freq_rel_variation = snap_medium_freq_variation / snap_med_freq_high_val\n",
    "snap_high_freq_rel_variation = snap_high_freq_variation / snap_high_freq_high_val\n",
    "\n",
    "print(f\"Snap-1 3.33Hz relative variation: {snap_low_freq_rel_variation}\")\n",
    "print(f\"Snap-1 10Hz relative variation: {snap_medium_freq_rel_variation}\")\n",
    "print(f\"Snap-1 30Hz relative variation: {snap_high_freq_rel_variation}\")\n",
    "\n",
    "print(f\"Snap-1 3.33Hz variation: {snap_low_freq_variation}\")\n",
    "print(f\"Snap-1 10Hz variation: {snap_medium_freq_variation}\")\n",
    "print(f\"Snap-1 30Hz variation: {snap_high_freq_variation}\")"
   ]
  },
  {
   "cell_type": "code",
   "execution_count": 43,
   "metadata": {
    "colab": {
     "base_uri": "https://localhost:8080/"
    },
    "executionInfo": {
     "elapsed": 60,
     "status": "ok",
     "timestamp": 1735981955634,
     "user": {
      "displayName": "Michel POHL",
      "userId": "15338116657512375953"
     },
     "user_tz": -60
    },
    "id": "AoyrqW8nM2kl",
    "outputId": "479f2e20-e68b-4033-f4de-a65f20686788"
   },
   "outputs": [
    {
     "name": "stdout",
     "output_type": "stream",
     "text": [
      "Snap-1 3.33Hz relative variation: 0.08447802197802201\n",
      "Snap-1 10Hz relative variation: 0.17647058823529416\n",
      "Snap-1 30Hz relative variation: 0.12539851222104148\n",
      "Snap-1 3.33Hz variation: 0.02460000000000001\n",
      "Snap-1 10Hz variation: 0.024900000000000005\n",
      "Snap-1 30Hz variation: 0.011800000000000005\n"
     ]
    }
   ],
   "source": [
    "snap_low_freq_low_horizon_high_val = 0.2912\n",
    "snap_low_freq_low_horizon_low_val = 0.2666\n",
    "snap_med_freq_low_horizon_high_val = 0.1411\n",
    "snap_med_freq_low_horizon_low_val = 0.1162\n",
    "snap_high_freq_low_horizon_high_val = 0.0941\n",
    "snap_high_freq_low_horizon_low_val = 0.0823\n",
    "\n",
    "snap_low_freq_low_horizon_variation = snap_low_freq_low_horizon_high_val - snap_low_freq_low_horizon_low_val\n",
    "snap_medium_freq_low_horizon_variation = snap_med_freq_low_horizon_high_val - snap_med_freq_low_horizon_low_val\n",
    "snap_high_freq_low_horizon_variation = snap_high_freq_low_horizon_high_val - snap_high_freq_low_horizon_low_val\n",
    "\n",
    "snap_low_freq_low_horizon_rel_variation = snap_low_freq_low_horizon_variation / snap_low_freq_low_horizon_high_val\n",
    "snap_medium_freq_low_horizon_rel_variation = snap_medium_freq_low_horizon_variation / snap_med_freq_low_horizon_high_val\n",
    "snap_high_freq_low_horizon_rel_variation = snap_high_freq_low_horizon_variation / snap_high_freq_low_horizon_high_val\n",
    "\n",
    "print(f\"Snap-1 3.33Hz relative variation: {snap_low_freq_low_horizon_rel_variation}\")\n",
    "print(f\"Snap-1 10Hz relative variation: {snap_medium_freq_low_horizon_rel_variation}\")\n",
    "print(f\"Snap-1 30Hz relative variation: {snap_high_freq_low_horizon_rel_variation}\")\n",
    "\n",
    "print(f\"Snap-1 3.33Hz variation: {snap_low_freq_low_horizon_variation}\")\n",
    "print(f\"Snap-1 10Hz variation: {snap_medium_freq_low_horizon_variation}\")\n",
    "print(f\"Snap-1 30Hz variation: {snap_high_freq_low_horizon_variation}\")"
   ]
  },
  {
   "cell_type": "markdown",
   "metadata": {
    "id": "x537hkQU8Bx7"
   },
   "source": [
    "# Computing time"
   ]
  },
  {
   "cell_type": "code",
   "execution_count": 44,
   "metadata": {
    "colab": {
     "base_uri": "https://localhost:8080/",
     "height": 143
    },
    "executionInfo": {
     "elapsed": 57,
     "status": "ok",
     "timestamp": 1735981955634,
     "user": {
      "displayName": "Michel POHL",
      "userId": "15338116657512375953"
     },
     "user_tz": -60
    },
    "id": "f59HoG2b8IsA",
    "outputId": "bac4aee0-c842-4823-8a2e-d0f6b3fcae1e"
   },
   "outputs": [
    {
     "data": {
      "text/html": [
       "<div>\n",
       "<style scoped>\n",
       "    .dataframe tbody tr th:only-of-type {\n",
       "        vertical-align: middle;\n",
       "    }\n",
       "\n",
       "    .dataframe tbody tr th {\n",
       "        vertical-align: top;\n",
       "    }\n",
       "\n",
       "    .dataframe thead th {\n",
       "        text-align: right;\n",
       "    }\n",
       "</style>\n",
       "<table border=\"1\" class=\"dataframe\">\n",
       "  <thead>\n",
       "    <tr style=\"text-align: right;\">\n",
       "      <th></th>\n",
       "      <th>RTRL</th>\n",
       "      <th>UORO</th>\n",
       "      <th>SnAp-1</th>\n",
       "      <th>DNI</th>\n",
       "      <th>LMS</th>\n",
       "      <th>Lin reg</th>\n",
       "    </tr>\n",
       "  </thead>\n",
       "  <tbody>\n",
       "    <tr>\n",
       "      <th>3.33 Hz</th>\n",
       "      <td>1.374</td>\n",
       "      <td>0.2237</td>\n",
       "      <td>0.1467</td>\n",
       "      <td>0.1459</td>\n",
       "      <td>0.005425</td>\n",
       "      <td>0.000702</td>\n",
       "    </tr>\n",
       "    <tr>\n",
       "      <th>10 Hz</th>\n",
       "      <td>10.113</td>\n",
       "      <td>2.0460</td>\n",
       "      <td>1.5200</td>\n",
       "      <td>1.0410</td>\n",
       "      <td>0.014400</td>\n",
       "      <td>0.002978</td>\n",
       "    </tr>\n",
       "    <tr>\n",
       "      <th>30 Hz</th>\n",
       "      <td>34.002</td>\n",
       "      <td>11.5910</td>\n",
       "      <td>9.6860</td>\n",
       "      <td>6.8300</td>\n",
       "      <td>0.032740</td>\n",
       "      <td>0.011660</td>\n",
       "    </tr>\n",
       "  </tbody>\n",
       "</table>\n",
       "</div>"
      ],
      "text/plain": [
       "           RTRL     UORO  SnAp-1     DNI       LMS   Lin reg\n",
       "3.33 Hz   1.374   0.2237  0.1467  0.1459  0.005425  0.000702\n",
       "10 Hz    10.113   2.0460  1.5200  1.0410  0.014400  0.002978\n",
       "30 Hz    34.002  11.5910  9.6860  6.8300  0.032740  0.011660"
      ]
     },
     "execution_count": 44,
     "metadata": {},
     "output_type": "execute_result"
    }
   ],
   "source": [
    "time_ms = {\n",
    "    \"RTRL\": {\"3.33 Hz\": 1.374, \"10 Hz\": 10.113, \"30 Hz\": 34.002},\n",
    "    \"UORO\": {\"3.33 Hz\": 2.237e-1, \"10 Hz\": 2.046, \"30 Hz\": 11.591},\n",
    "    \"SnAp-1\": {\"3.33 Hz\": 1.467e-1, \"10 Hz\": 1.520, \"30 Hz\": 9.686},\n",
    "    \"DNI\": {\"3.33 Hz\": 1.459e-1, \"10 Hz\": 1.041, \"30 Hz\": 6.830},\n",
    "    \"LMS\": {\"3.33 Hz\": 5.425e-3, \"10 Hz\": 1.440e-2, \"30 Hz\": 3.274e-2},\n",
    "    \"Lin reg\": {\"3.33 Hz\": 7.020e-4, \"10 Hz\": 2.978e-3, \"30 Hz\": 1.166e-2},\n",
    "}\n",
    "time_ms_df = pd.DataFrame(time_ms)\n",
    "time_ms_df"
   ]
  },
  {
   "cell_type": "markdown",
   "metadata": {
    "id": "oAWmbwT2_8iT"
   },
   "source": [
    "## Relative time computation per time step increase for UORO, SnAp-1 and DNI with increase in the sampling frequency"
   ]
  },
  {
   "cell_type": "code",
   "execution_count": 45,
   "metadata": {
    "colab": {
     "base_uri": "https://localhost:8080/",
     "height": 178
    },
    "executionInfo": {
     "elapsed": 56,
     "status": "ok",
     "timestamp": 1735981955634,
     "user": {
      "displayName": "Michel POHL",
      "userId": "15338116657512375953"
     },
     "user_tz": -60
    },
    "id": "scOZZwxO-l96",
    "outputId": "1d7460dd-1757-42ca-98c0-1a4e840a93f9"
   },
   "outputs": [
    {
     "data": {
      "text/plain": [
       "3.33 Hz    0.172100\n",
       "10 Hz      1.535667\n",
       "30 Hz      9.369000\n",
       "dtype: float64"
      ]
     },
     "execution_count": 45,
     "metadata": {},
     "output_type": "execute_result"
    }
   ],
   "source": [
    "time_ms_rnn_df = time_ms_df.loc[:, [\"UORO\", \"SnAp-1\", \"DNI\"]].mean(axis=\"columns\")\n",
    "time_ms_rnn_df"
   ]
  },
  {
   "cell_type": "code",
   "execution_count": 46,
   "metadata": {
    "colab": {
     "base_uri": "https://localhost:8080/"
    },
    "executionInfo": {
     "elapsed": 55,
     "status": "ok",
     "timestamp": 1735981955634,
     "user": {
      "displayName": "Michel POHL",
      "userId": "15338116657512375953"
     },
     "user_tz": -60
    },
    "id": "oOcQcmBL_E8D",
    "outputId": "efcbd54d-309d-4af7-e3ce-f6fe9983c68c"
   },
   "outputs": [
    {
     "data": {
      "text/plain": [
       "7.923106720898701"
      ]
     },
     "execution_count": 46,
     "metadata": {},
     "output_type": "execute_result"
    }
   ],
   "source": [
    "(time_ms_rnn_df[\"10 Hz\"] - time_ms_rnn_df[\"3.33 Hz\"]) / time_ms_rnn_df[\"3.33 Hz\"]"
   ]
  },
  {
   "cell_type": "code",
   "execution_count": 47,
   "metadata": {
    "colab": {
     "base_uri": "https://localhost:8080/"
    },
    "executionInfo": {
     "elapsed": 53,
     "status": "ok",
     "timestamp": 1735981955634,
     "user": {
      "displayName": "Michel POHL",
      "userId": "15338116657512375953"
     },
     "user_tz": -60
    },
    "id": "Z6jMnuV8_58t",
    "outputId": "4becfb22-3c88-43ab-dba4-6b54dc07eb72"
   },
   "outputs": [
    {
     "data": {
      "text/plain": [
       "5.1009333622748"
      ]
     },
     "execution_count": 47,
     "metadata": {},
     "output_type": "execute_result"
    }
   ],
   "source": [
    "(time_ms_rnn_df[\"30 Hz\"] - time_ms_rnn_df[\"10 Hz\"]) / time_ms_rnn_df[\"10 Hz\"]"
   ]
  },
  {
   "cell_type": "markdown",
   "metadata": {
    "id": "RXDhVLmfGJK1"
   },
   "source": [
    "## Comparing the different algorithms"
   ]
  },
  {
   "cell_type": "code",
   "execution_count": 48,
   "metadata": {
    "colab": {
     "base_uri": "https://localhost:8080/",
     "height": 178
    },
    "executionInfo": {
     "elapsed": 49,
     "status": "ok",
     "timestamp": 1735981955634,
     "user": {
      "displayName": "Michel POHL",
      "userId": "15338116657512375953"
     },
     "user_tz": -60
    },
    "id": "VjPhuov0KOjE",
    "outputId": "9551a591-507e-4072-bd16-913496f940a1"
   },
   "outputs": [
    {
     "data": {
      "text/plain": [
       "3.33 Hz    7.72792\n",
       "10 Hz      4.83546\n",
       "30 Hz      2.80789\n",
       "dtype: float64"
      ]
     },
     "execution_count": 48,
     "metadata": {},
     "output_type": "execute_result"
    }
   ],
   "source": [
    "time_ms_df[\"LMS\"] / time_ms_df[\"Lin reg\"]"
   ]
  },
  {
   "cell_type": "code",
   "execution_count": 49,
   "metadata": {
    "colab": {
     "base_uri": "https://localhost:8080/",
     "height": 178
    },
    "executionInfo": {
     "elapsed": 48,
     "status": "ok",
     "timestamp": 1735981955634,
     "user": {
      "displayName": "Michel POHL",
      "userId": "15338116657512375953"
     },
     "user_tz": -60
    },
    "id": "rl0wBVniKXp4",
    "outputId": "6c5efbae-9854-4ccb-a88f-f308eac4411d"
   },
   "outputs": [
    {
     "data": {
      "text/plain": [
       "3.33 Hz     26.894009\n",
       "10 Hz       72.291667\n",
       "30 Hz      208.613317\n",
       "dtype: float64"
      ]
     },
     "execution_count": 49,
     "metadata": {},
     "output_type": "execute_result"
    }
   ],
   "source": [
    "time_ms_df[\"DNI\"] / time_ms_df[\"LMS\"]"
   ]
  },
  {
   "cell_type": "code",
   "execution_count": 50,
   "metadata": {
    "colab": {
     "base_uri": "https://localhost:8080/",
     "height": 178
    },
    "executionInfo": {
     "elapsed": 47,
     "status": "ok",
     "timestamp": 1735981955634,
     "user": {
      "displayName": "Michel POHL",
      "userId": "15338116657512375953"
     },
     "user_tz": -60
    },
    "id": "oHcBx0gcJ_fw",
    "outputId": "de65bb59-13d3-4391-8ed6-c1d8b9e1f568"
   },
   "outputs": [
    {
     "data": {
      "text/plain": [
       "3.33 Hz    1.005483\n",
       "10 Hz      1.460134\n",
       "30 Hz      1.418155\n",
       "dtype: float64"
      ]
     },
     "execution_count": 50,
     "metadata": {},
     "output_type": "execute_result"
    }
   ],
   "source": [
    "time_ms_df[\"SnAp-1\"] / time_ms_df[\"DNI\"]"
   ]
  },
  {
   "cell_type": "code",
   "execution_count": 51,
   "metadata": {
    "colab": {
     "base_uri": "https://localhost:8080/",
     "height": 178
    },
    "executionInfo": {
     "elapsed": 46,
     "status": "ok",
     "timestamp": 1735981955634,
     "user": {
      "displayName": "Michel POHL",
      "userId": "15338116657512375953"
     },
     "user_tz": -60
    },
    "id": "1DNHlarqKkSK",
    "outputId": "0a833ed3-c8f4-4b82-c831-e69aa8720cb4"
   },
   "outputs": [
    {
     "data": {
      "text/plain": [
       "3.33 Hz    1.533242\n",
       "10 Hz      1.965418\n",
       "30 Hz      1.697072\n",
       "dtype: float64"
      ]
     },
     "execution_count": 51,
     "metadata": {},
     "output_type": "execute_result"
    }
   ],
   "source": [
    "time_ms_df[\"UORO\"] / time_ms_df[\"DNI\"]"
   ]
  },
  {
   "cell_type": "code",
   "execution_count": 52,
   "metadata": {
    "colab": {
     "base_uri": "https://localhost:8080/",
     "height": 178
    },
    "executionInfo": {
     "elapsed": 46,
     "status": "ok",
     "timestamp": 1735981955634,
     "user": {
      "displayName": "Michel POHL",
      "userId": "15338116657512375953"
     },
     "user_tz": -60
    },
    "id": "OPm-bfEIMCZ5",
    "outputId": "2a9546b9-7a3f-4db2-c669-6333686e4541"
   },
   "outputs": [
    {
     "data": {
      "text/plain": [
       "3.33 Hz    1.524881\n",
       "10 Hz      1.346053\n",
       "30 Hz      1.196676\n",
       "dtype: float64"
      ]
     },
     "execution_count": 52,
     "metadata": {},
     "output_type": "execute_result"
    }
   ],
   "source": [
    "time_ms_df[\"UORO\"] / time_ms_df[\"SnAp-1\"]"
   ]
  },
  {
   "cell_type": "code",
   "execution_count": 53,
   "metadata": {
    "colab": {
     "base_uri": "https://localhost:8080/",
     "height": 178
    },
    "executionInfo": {
     "elapsed": 45,
     "status": "ok",
     "timestamp": 1735981955634,
     "user": {
      "displayName": "Michel POHL",
      "userId": "15338116657512375953"
     },
     "user_tz": -60
    },
    "id": "71s9J0SyKn4d",
    "outputId": "4eb73f3e-ac44-4f05-add0-b64ebdda23b7"
   },
   "outputs": [
    {
     "data": {
      "text/plain": [
       "3.33 Hz    9.417409\n",
       "10 Hz      9.714697\n",
       "30 Hz      4.978331\n",
       "dtype: float64"
      ]
     },
     "execution_count": 53,
     "metadata": {},
     "output_type": "execute_result"
    }
   ],
   "source": [
    "time_ms_df[\"RTRL\"] / time_ms_df[\"DNI\"]"
   ]
  },
  {
   "cell_type": "markdown",
   "metadata": {
    "id": "BK_oO9JMk-SA"
   },
   "source": [
    "## Variation with the SHL and number of hidden neurons"
   ]
  },
  {
   "cell_type": "code",
   "execution_count": 54,
   "metadata": {
    "executionInfo": {
     "elapsed": 45,
     "status": "ok",
     "timestamp": 1735981955635,
     "user": {
      "displayName": "Michel POHL",
      "userId": "15338116657512375953"
     },
     "user_tz": -60
    },
    "id": "TaEADv_OlVoA"
   },
   "outputs": [],
   "source": [
    "time_ms_vs_shl = {\n",
    "    \"1.2 s\": {\n",
    "        \"RTRL\": {\"3.33 Hz\": 2.983e-4, \"10 Hz\": 2.328e-3, \"30 Hz\": 1.051e-2},\n",
    "        \"UORO\": {\"3.33 Hz\": 1.598e-4, \"10 Hz\": 3.783e-4, \"30 Hz\": 1.778e-3},\n",
    "        \"SnAp-1\": {\"3.33 Hz\": 9.889e-5, \"10 Hz\": 2.371e-4, \"30 Hz\": 1.239e-3},\n",
    "        \"DNI\": {\"3.33 Hz\": 1.186e-4, \"10 Hz\": 2.300e-4, \"30 Hz\": 8.506e-4},\n",
    "        \"LMS\": {\"3.33 Hz\": 3.833e-6, \"10 Hz\": 7.026e-6, \"30 Hz\": 1.387e-5},\n",
    "        \"Lin reg\": {\"3.33 Hz\": 4.406e-7, \"10 Hz\": 7.041e-7, \"30 Hz\": 2.617e-6},\n",
    "        \"Kernel SVR\": {\"3.33 Hz\": 1.606e-4, \"10 Hz\": 2.528e-4, \"30 Hz\": 2.075e-3},\n",
    "    },\n",
    "    \"6.0 s\": {\n",
    "        \"RTRL\": {\"3.33 Hz\": 2.509e-3, \"10 Hz\": 1.750e-2, \"30 Hz\": 5.678e-2},\n",
    "        \"UORO\": {\"3.33 Hz\": 2.809e-4, \"10 Hz\": 4.329e-3, \"30 Hz\": 2.214e-2},\n",
    "        \"SnAp-1\": {\"3.33 Hz\": 1.904e-4, \"10 Hz\": 3.406e-3, \"30 Hz\": 1.869e-2},\n",
    "        \"DNI\": {\"3.33 Hz\": 1.739e-4, \"10 Hz\": 2.385e-3, \"30 Hz\": 1.336e-2},\n",
    "        \"LMS\": {\"3.33 Hz\": 7.020e-6, \"10 Hz\": 2.298e-5, \"30 Hz\": 5.029e-5},\n",
    "        \"Lin reg\": {\"3.33 Hz\": 1.042e-6, \"10 Hz\": 5.101e-6, \"30 Hz\": 2.413e-5},\n",
    "        \"Kernel SVR\": {\"3.33 Hz\": 2.181e-4, \"10 Hz\": 9.108e-4, \"30 Hz\": 1.651e-2},\n",
    "    },\n",
    "}"
   ]
  },
  {
   "cell_type": "code",
   "execution_count": 55,
   "metadata": {
    "colab": {
     "base_uri": "https://localhost:8080/",
     "height": 269
    },
    "executionInfo": {
     "elapsed": 45,
     "status": "ok",
     "timestamp": 1735981955635,
     "user": {
      "displayName": "Michel POHL",
      "userId": "15338116657512375953"
     },
     "user_tz": -60
    },
    "id": "hRyvE2FkvaGX",
    "outputId": "d052b4e0-8d73-4c2e-b11a-75b2f02af31b"
   },
   "outputs": [
    {
     "data": {
      "text/html": [
       "<div>\n",
       "<style scoped>\n",
       "    .dataframe tbody tr th:only-of-type {\n",
       "        vertical-align: middle;\n",
       "    }\n",
       "\n",
       "    .dataframe tbody tr th {\n",
       "        vertical-align: top;\n",
       "    }\n",
       "\n",
       "    .dataframe thead th {\n",
       "        text-align: right;\n",
       "    }\n",
       "</style>\n",
       "<table border=\"1\" class=\"dataframe\">\n",
       "  <thead>\n",
       "    <tr style=\"text-align: right;\">\n",
       "      <th></th>\n",
       "      <th>3.33 Hz</th>\n",
       "      <th>10 Hz</th>\n",
       "      <th>30 Hz</th>\n",
       "    </tr>\n",
       "  </thead>\n",
       "  <tbody>\n",
       "    <tr>\n",
       "      <th>RTRL</th>\n",
       "      <td>7.410996</td>\n",
       "      <td>6.517182</td>\n",
       "      <td>4.402474</td>\n",
       "    </tr>\n",
       "    <tr>\n",
       "      <th>UORO</th>\n",
       "      <td>0.757822</td>\n",
       "      <td>10.443299</td>\n",
       "      <td>11.452193</td>\n",
       "    </tr>\n",
       "    <tr>\n",
       "      <th>SnAp-1</th>\n",
       "      <td>0.925372</td>\n",
       "      <td>13.365247</td>\n",
       "      <td>14.084746</td>\n",
       "    </tr>\n",
       "    <tr>\n",
       "      <th>DNI</th>\n",
       "      <td>0.466273</td>\n",
       "      <td>9.369565</td>\n",
       "      <td>14.706560</td>\n",
       "    </tr>\n",
       "    <tr>\n",
       "      <th>LMS</th>\n",
       "      <td>0.831464</td>\n",
       "      <td>2.270709</td>\n",
       "      <td>2.625811</td>\n",
       "    </tr>\n",
       "    <tr>\n",
       "      <th>Lin reg</th>\n",
       "      <td>1.364957</td>\n",
       "      <td>6.244710</td>\n",
       "      <td>8.220481</td>\n",
       "    </tr>\n",
       "    <tr>\n",
       "      <th>Kernel SVR</th>\n",
       "      <td>0.358032</td>\n",
       "      <td>2.602848</td>\n",
       "      <td>6.956627</td>\n",
       "    </tr>\n",
       "  </tbody>\n",
       "</table>\n",
       "</div>"
      ],
      "text/plain": [
       "             3.33 Hz      10 Hz      30 Hz\n",
       "RTRL        7.410996   6.517182   4.402474\n",
       "UORO        0.757822  10.443299  11.452193\n",
       "SnAp-1      0.925372  13.365247  14.084746\n",
       "DNI         0.466273   9.369565  14.706560\n",
       "LMS         0.831464   2.270709   2.625811\n",
       "Lin reg     1.364957   6.244710   8.220481\n",
       "Kernel SVR  0.358032   2.602848   6.956627"
      ]
     },
     "execution_count": 55,
     "metadata": {},
     "output_type": "execute_result"
    }
   ],
   "source": [
    "low_shl_df = pd.DataFrame(time_ms_vs_shl[\"1.2 s\"])\n",
    "high_shl_df = pd.DataFrame(time_ms_vs_shl[\"6.0 s\"])\n",
    "shl_rel_diff_df = (high_shl_df - low_shl_df) / low_shl_df\n",
    "shl_rel_diff_df.T"
   ]
  },
  {
   "cell_type": "code",
   "execution_count": 56,
   "metadata": {
    "colab": {
     "base_uri": "https://localhost:8080/",
     "height": 269
    },
    "executionInfo": {
     "elapsed": 45,
     "status": "ok",
     "timestamp": 1735981955635,
     "user": {
      "displayName": "Michel POHL",
      "userId": "15338116657512375953"
     },
     "user_tz": -60
    },
    "id": "laROMlscKAz0",
    "outputId": "813b9ae8-1d5f-45fe-b5aa-c46cb83bbb80"
   },
   "outputs": [
    {
     "data": {
      "text/html": [
       "<div>\n",
       "<style scoped>\n",
       "    .dataframe tbody tr th:only-of-type {\n",
       "        vertical-align: middle;\n",
       "    }\n",
       "\n",
       "    .dataframe tbody tr th {\n",
       "        vertical-align: top;\n",
       "    }\n",
       "\n",
       "    .dataframe thead th {\n",
       "        text-align: right;\n",
       "    }\n",
       "</style>\n",
       "<table border=\"1\" class=\"dataframe\">\n",
       "  <thead>\n",
       "    <tr style=\"text-align: right;\">\n",
       "      <th></th>\n",
       "      <th>3.33 Hz</th>\n",
       "      <th>10 Hz</th>\n",
       "      <th>30 Hz</th>\n",
       "    </tr>\n",
       "  </thead>\n",
       "  <tbody>\n",
       "    <tr>\n",
       "      <th>RTRL</th>\n",
       "      <td>2.983000e-04</td>\n",
       "      <td>2.328000e-03</td>\n",
       "      <td>0.010510</td>\n",
       "    </tr>\n",
       "    <tr>\n",
       "      <th>UORO</th>\n",
       "      <td>1.598000e-04</td>\n",
       "      <td>3.783000e-04</td>\n",
       "      <td>0.001778</td>\n",
       "    </tr>\n",
       "    <tr>\n",
       "      <th>SnAp-1</th>\n",
       "      <td>9.889000e-05</td>\n",
       "      <td>2.371000e-04</td>\n",
       "      <td>0.001239</td>\n",
       "    </tr>\n",
       "    <tr>\n",
       "      <th>DNI</th>\n",
       "      <td>1.186000e-04</td>\n",
       "      <td>2.300000e-04</td>\n",
       "      <td>0.000851</td>\n",
       "    </tr>\n",
       "    <tr>\n",
       "      <th>LMS</th>\n",
       "      <td>3.833000e-06</td>\n",
       "      <td>7.026000e-06</td>\n",
       "      <td>0.000014</td>\n",
       "    </tr>\n",
       "    <tr>\n",
       "      <th>Lin reg</th>\n",
       "      <td>4.406000e-07</td>\n",
       "      <td>7.041000e-07</td>\n",
       "      <td>0.000003</td>\n",
       "    </tr>\n",
       "    <tr>\n",
       "      <th>Kernel SVR</th>\n",
       "      <td>1.606000e-04</td>\n",
       "      <td>2.528000e-04</td>\n",
       "      <td>0.002075</td>\n",
       "    </tr>\n",
       "  </tbody>\n",
       "</table>\n",
       "</div>"
      ],
      "text/plain": [
       "                 3.33 Hz         10 Hz     30 Hz\n",
       "RTRL        2.983000e-04  2.328000e-03  0.010510\n",
       "UORO        1.598000e-04  3.783000e-04  0.001778\n",
       "SnAp-1      9.889000e-05  2.371000e-04  0.001239\n",
       "DNI         1.186000e-04  2.300000e-04  0.000851\n",
       "LMS         3.833000e-06  7.026000e-06  0.000014\n",
       "Lin reg     4.406000e-07  7.041000e-07  0.000003\n",
       "Kernel SVR  1.606000e-04  2.528000e-04  0.002075"
      ]
     },
     "execution_count": 56,
     "metadata": {},
     "output_type": "execute_result"
    }
   ],
   "source": [
    "low_shl_df.T"
   ]
  },
  {
   "cell_type": "code",
   "execution_count": 57,
   "metadata": {
    "colab": {
     "base_uri": "https://localhost:8080/",
     "height": 269
    },
    "executionInfo": {
     "elapsed": 44,
     "status": "ok",
     "timestamp": 1735981955635,
     "user": {
      "displayName": "Michel POHL",
      "userId": "15338116657512375953"
     },
     "user_tz": -60
    },
    "id": "DKd2Xxe4KC4I",
    "outputId": "9449ae16-6190-453c-d68e-ca4355262dda"
   },
   "outputs": [
    {
     "data": {
      "text/html": [
       "<div>\n",
       "<style scoped>\n",
       "    .dataframe tbody tr th:only-of-type {\n",
       "        vertical-align: middle;\n",
       "    }\n",
       "\n",
       "    .dataframe tbody tr th {\n",
       "        vertical-align: top;\n",
       "    }\n",
       "\n",
       "    .dataframe thead th {\n",
       "        text-align: right;\n",
       "    }\n",
       "</style>\n",
       "<table border=\"1\" class=\"dataframe\">\n",
       "  <thead>\n",
       "    <tr style=\"text-align: right;\">\n",
       "      <th></th>\n",
       "      <th>3.33 Hz</th>\n",
       "      <th>10 Hz</th>\n",
       "      <th>30 Hz</th>\n",
       "    </tr>\n",
       "  </thead>\n",
       "  <tbody>\n",
       "    <tr>\n",
       "      <th>RTRL</th>\n",
       "      <td>0.002509</td>\n",
       "      <td>0.017500</td>\n",
       "      <td>0.056780</td>\n",
       "    </tr>\n",
       "    <tr>\n",
       "      <th>UORO</th>\n",
       "      <td>0.000281</td>\n",
       "      <td>0.004329</td>\n",
       "      <td>0.022140</td>\n",
       "    </tr>\n",
       "    <tr>\n",
       "      <th>SnAp-1</th>\n",
       "      <td>0.000190</td>\n",
       "      <td>0.003406</td>\n",
       "      <td>0.018690</td>\n",
       "    </tr>\n",
       "    <tr>\n",
       "      <th>DNI</th>\n",
       "      <td>0.000174</td>\n",
       "      <td>0.002385</td>\n",
       "      <td>0.013360</td>\n",
       "    </tr>\n",
       "    <tr>\n",
       "      <th>LMS</th>\n",
       "      <td>0.000007</td>\n",
       "      <td>0.000023</td>\n",
       "      <td>0.000050</td>\n",
       "    </tr>\n",
       "    <tr>\n",
       "      <th>Lin reg</th>\n",
       "      <td>0.000001</td>\n",
       "      <td>0.000005</td>\n",
       "      <td>0.000024</td>\n",
       "    </tr>\n",
       "    <tr>\n",
       "      <th>Kernel SVR</th>\n",
       "      <td>0.000218</td>\n",
       "      <td>0.000911</td>\n",
       "      <td>0.016510</td>\n",
       "    </tr>\n",
       "  </tbody>\n",
       "</table>\n",
       "</div>"
      ],
      "text/plain": [
       "             3.33 Hz     10 Hz     30 Hz\n",
       "RTRL        0.002509  0.017500  0.056780\n",
       "UORO        0.000281  0.004329  0.022140\n",
       "SnAp-1      0.000190  0.003406  0.018690\n",
       "DNI         0.000174  0.002385  0.013360\n",
       "LMS         0.000007  0.000023  0.000050\n",
       "Lin reg     0.000001  0.000005  0.000024\n",
       "Kernel SVR  0.000218  0.000911  0.016510"
      ]
     },
     "execution_count": 57,
     "metadata": {},
     "output_type": "execute_result"
    }
   ],
   "source": [
    "high_shl_df.T"
   ]
  },
  {
   "cell_type": "code",
   "execution_count": 58,
   "metadata": {
    "executionInfo": {
     "elapsed": 43,
     "status": "ok",
     "timestamp": 1735981955635,
     "user": {
      "displayName": "Michel POHL",
      "userId": "15338116657512375953"
     },
     "user_tz": -60
    },
    "id": "rx2UVVdy8hkT"
   },
   "outputs": [],
   "source": [
    "time_ms_vs_nb_neurons = {\n",
    "    \"few\": {  # 10 for RTRL and 30 for UORO, SnAp-1, and DNI\n",
    "        \"RTRL\": {\"3.33 Hz\": 2.241e-4, \"10 Hz\": 6.679e-4, \"30 Hz\": 3.172e-3},\n",
    "        \"UORO\": {\"3.33 Hz\": 5.594e-5, \"10 Hz\": 1.295e-4, \"30 Hz\": 5.220e-4},\n",
    "        \"SnAp-1\": {\"3.33 Hz\": 4.544e-5, \"10 Hz\": 9.735e-5, \"30 Hz\": 3.697e-4},\n",
    "        \"DNI\": {\"3.33 Hz\": 4.099e-5, \"10 Hz\": 7.290e-5, \"30 Hz\": 2.121e-4},\n",
    "    },\n",
    "    \"many\": {  # 40 for RTRL and 180 for UORO, SnAp-1, and DNI\n",
    "        \"RTRL\": {\"3.33 Hz\": 3.361e-3, \"10 Hz\": 2.341e-2, \"30 Hz\": 7.135e-2},\n",
    "        \"UORO\": {\"3.33 Hz\": 4.631e-4, \"10 Hz\": 6.030e-3, \"30 Hz\": 2.599e-2},\n",
    "        \"SnAp-1\": {\"3.33 Hz\": 2.871e-4, \"10 Hz\": 4.629e-3, \"30 Hz\": 2.200e-2},\n",
    "        \"DNI\": {\"3.33 Hz\": 3.041e-4, \"10 Hz\": 3.511e-3, \"30 Hz\": 1.632e-2},\n",
    "    },\n",
    "}"
   ]
  },
  {
   "cell_type": "code",
   "execution_count": 59,
   "metadata": {
    "colab": {
     "base_uri": "https://localhost:8080/",
     "height": 175
    },
    "executionInfo": {
     "elapsed": 43,
     "status": "ok",
     "timestamp": 1735981955635,
     "user": {
      "displayName": "Michel POHL",
      "userId": "15338116657512375953"
     },
     "user_tz": -60
    },
    "id": "4j6pzQnaA1qT",
    "outputId": "ea4868e7-57f5-4846-ec93-26d016f57d14"
   },
   "outputs": [
    {
     "data": {
      "text/html": [
       "<div>\n",
       "<style scoped>\n",
       "    .dataframe tbody tr th:only-of-type {\n",
       "        vertical-align: middle;\n",
       "    }\n",
       "\n",
       "    .dataframe tbody tr th {\n",
       "        vertical-align: top;\n",
       "    }\n",
       "\n",
       "    .dataframe thead th {\n",
       "        text-align: right;\n",
       "    }\n",
       "</style>\n",
       "<table border=\"1\" class=\"dataframe\">\n",
       "  <thead>\n",
       "    <tr style=\"text-align: right;\">\n",
       "      <th></th>\n",
       "      <th>3.33 Hz</th>\n",
       "      <th>10 Hz</th>\n",
       "      <th>30 Hz</th>\n",
       "    </tr>\n",
       "  </thead>\n",
       "  <tbody>\n",
       "    <tr>\n",
       "      <th>RTRL</th>\n",
       "      <td>13.997769</td>\n",
       "      <td>34.050157</td>\n",
       "      <td>21.493695</td>\n",
       "    </tr>\n",
       "    <tr>\n",
       "      <th>UORO</th>\n",
       "      <td>7.278513</td>\n",
       "      <td>45.563707</td>\n",
       "      <td>48.789272</td>\n",
       "    </tr>\n",
       "    <tr>\n",
       "      <th>SnAp-1</th>\n",
       "      <td>5.318222</td>\n",
       "      <td>46.550077</td>\n",
       "      <td>58.507709</td>\n",
       "    </tr>\n",
       "    <tr>\n",
       "      <th>DNI</th>\n",
       "      <td>6.418883</td>\n",
       "      <td>47.161866</td>\n",
       "      <td>75.944837</td>\n",
       "    </tr>\n",
       "  </tbody>\n",
       "</table>\n",
       "</div>"
      ],
      "text/plain": [
       "          3.33 Hz      10 Hz      30 Hz\n",
       "RTRL    13.997769  34.050157  21.493695\n",
       "UORO     7.278513  45.563707  48.789272\n",
       "SnAp-1   5.318222  46.550077  58.507709\n",
       "DNI      6.418883  47.161866  75.944837"
      ]
     },
     "execution_count": 59,
     "metadata": {},
     "output_type": "execute_result"
    }
   ],
   "source": [
    "few_neurons_df = pd.DataFrame(time_ms_vs_nb_neurons[\"few\"])\n",
    "many_neurons_df = pd.DataFrame(time_ms_vs_nb_neurons[\"many\"])\n",
    "nb_neurons_rel_diff_df = (many_neurons_df - few_neurons_df) / few_neurons_df\n",
    "nb_neurons_rel_diff_df.T"
   ]
  }
 ],
 "metadata": {
  "colab": {
   "authorship_tag": "ABX9TyMBmFiY8wj+AwSHE0eI6h8J",
   "provenance": []
  },
  "kernelspec": {
   "display_name": "future_frame_prediction",
   "language": "python",
   "name": "python3"
  },
  "language_info": {
   "codemirror_mode": {
    "name": "ipython",
    "version": 3
   },
   "file_extension": ".py",
   "mimetype": "text/x-python",
   "name": "python",
   "nbconvert_exporter": "python",
   "pygments_lexer": "ipython3",
   "version": "3.9.13"
  }
 },
 "nbformat": 4,
 "nbformat_minor": 0
}
